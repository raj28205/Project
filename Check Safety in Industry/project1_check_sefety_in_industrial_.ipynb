{
 "cells": [
  {
   "cell_type": "markdown",
   "id": "36be4f8e-ab64-42ba-9746-70ce962970fe",
   "metadata": {},
   "source": [
    "# this project about check sefety of industry"
   ]
  },
  {
   "cell_type": "markdown",
   "id": "e775bfe2-6f44-4e18-bd0d-edc3c39f4287",
   "metadata": {},
   "source": [
    "## import the required library :"
   ]
  },
  {
   "cell_type": "code",
   "execution_count": 21,
   "id": "8a312d15-2dcc-471c-b562-b73b7482a0e4",
   "metadata": {},
   "outputs": [],
   "source": [
    "# import numerical python for preforming numerical operation on diffrent data structure\n",
    "\n",
    "import numpy as np\n",
    "\n",
    "#import pandas for converting diffrent file format into pandas data frame\n",
    "\n",
    "import pandas as pd\n",
    "\n",
    "# import seaborn and matplotlib for creating intrective visulizing\n",
    "\n",
    "import seaborn as sns\n",
    "import matplotlib.pyplot as plt"
   ]
  },
  {
   "cell_type": "markdown",
   "id": "5c40ceb6-b115-40e8-9e9c-6244f16fc8dc",
   "metadata": {},
   "source": [
    "# load data"
   ]
  },
  {
   "cell_type": "code",
   "execution_count": 31,
   "id": "12ec9451-5cc1-4186-a937-33867833a481",
   "metadata": {},
   "outputs": [],
   "source": [
    "# load the data from local\n",
    "\n",
    "df_industrial_safety_dataset = pd.read_csv('industrial_safety_dataset_8000.csv')"
   ]
  },
  {
   "cell_type": "code",
   "execution_count": 33,
   "id": "0c46fac3-7e34-419f-a8b0-670308a3204b",
   "metadata": {},
   "outputs": [
    {
     "data": {
      "text/html": [
       "<div>\n",
       "<style scoped>\n",
       "    .dataframe tbody tr th:only-of-type {\n",
       "        vertical-align: middle;\n",
       "    }\n",
       "\n",
       "    .dataframe tbody tr th {\n",
       "        vertical-align: top;\n",
       "    }\n",
       "\n",
       "    .dataframe thead th {\n",
       "        text-align: right;\n",
       "    }\n",
       "</style>\n",
       "<table border=\"1\" class=\"dataframe\">\n",
       "  <thead>\n",
       "    <tr style=\"text-align: right;\">\n",
       "      <th></th>\n",
       "      <th>Timestamp</th>\n",
       "      <th>Equipment_ID</th>\n",
       "      <th>Pressure</th>\n",
       "      <th>Temperature</th>\n",
       "      <th>Vibration</th>\n",
       "      <th>Airflow_Rate</th>\n",
       "      <th>Chemical_Concentration</th>\n",
       "      <th>Maintenance_Last_Date</th>\n",
       "      <th>Maintenance_Frequency</th>\n",
       "      <th>Operational_Hours</th>\n",
       "      <th>Environmental_Temperature</th>\n",
       "      <th>Environmental_Humidity</th>\n",
       "      <th>Worker_Presence</th>\n",
       "      <th>Safety_Protocol_Compliance</th>\n",
       "      <th>Incident_History</th>\n",
       "      <th>Incident_Risk</th>\n",
       "    </tr>\n",
       "  </thead>\n",
       "  <tbody>\n",
       "    <tr>\n",
       "      <th>0</th>\n",
       "      <td>2025-06-01 00:00:00</td>\n",
       "      <td>SD_002</td>\n",
       "      <td>5.15</td>\n",
       "      <td>74.32</td>\n",
       "      <td>0.52</td>\n",
       "      <td>2.61</td>\n",
       "      <td>10.13</td>\n",
       "      <td>2025-03-13</td>\n",
       "      <td>7</td>\n",
       "      <td>82.46</td>\n",
       "      <td>27.83</td>\n",
       "      <td>89.50</td>\n",
       "      <td>8</td>\n",
       "      <td>False</td>\n",
       "      <td>0</td>\n",
       "      <td>False</td>\n",
       "    </tr>\n",
       "    <tr>\n",
       "      <th>1</th>\n",
       "      <td>2025-06-01 00:15:00</td>\n",
       "      <td>AHU_002</td>\n",
       "      <td>5.23</td>\n",
       "      <td>87.85</td>\n",
       "      <td>0.50</td>\n",
       "      <td>2.38</td>\n",
       "      <td>11.52</td>\n",
       "      <td>2025-04-22</td>\n",
       "      <td>5</td>\n",
       "      <td>12.74</td>\n",
       "      <td>23.91</td>\n",
       "      <td>85.00</td>\n",
       "      <td>5</td>\n",
       "      <td>True</td>\n",
       "      <td>2</td>\n",
       "      <td>False</td>\n",
       "    </tr>\n",
       "    <tr>\n",
       "      <th>2</th>\n",
       "      <td>2025-06-01 00:30:00</td>\n",
       "      <td>AHU_002</td>\n",
       "      <td>4.95</td>\n",
       "      <td>80.24</td>\n",
       "      <td>0.51</td>\n",
       "      <td>2.34</td>\n",
       "      <td>9.84</td>\n",
       "      <td>2025-03-08</td>\n",
       "      <td>2</td>\n",
       "      <td>139.94</td>\n",
       "      <td>26.95</td>\n",
       "      <td>65.20</td>\n",
       "      <td>9</td>\n",
       "      <td>True</td>\n",
       "      <td>1</td>\n",
       "      <td>False</td>\n",
       "    </tr>\n",
       "    <tr>\n",
       "      <th>3</th>\n",
       "      <td>2025-06-01 00:45:00</td>\n",
       "      <td>AHU_001</td>\n",
       "      <td>5.01</td>\n",
       "      <td>85.44</td>\n",
       "      <td>0.38</td>\n",
       "      <td>2.39</td>\n",
       "      <td>10.11</td>\n",
       "      <td>2025-04-24</td>\n",
       "      <td>7</td>\n",
       "      <td>49.18</td>\n",
       "      <td>25.16</td>\n",
       "      <td>87.66</td>\n",
       "      <td>3</td>\n",
       "      <td>True</td>\n",
       "      <td>1</td>\n",
       "      <td>False</td>\n",
       "    </tr>\n",
       "    <tr>\n",
       "      <th>4</th>\n",
       "      <td>2025-06-01 01:00:00</td>\n",
       "      <td>AHU_002</td>\n",
       "      <td>4.93</td>\n",
       "      <td>85.22</td>\n",
       "      <td>0.48</td>\n",
       "      <td>2.49</td>\n",
       "      <td>12.04</td>\n",
       "      <td>2025-04-18</td>\n",
       "      <td>0</td>\n",
       "      <td>119.28</td>\n",
       "      <td>26.23</td>\n",
       "      <td>63.71</td>\n",
       "      <td>6</td>\n",
       "      <td>True</td>\n",
       "      <td>1</td>\n",
       "      <td>False</td>\n",
       "    </tr>\n",
       "  </tbody>\n",
       "</table>\n",
       "</div>"
      ],
      "text/plain": [
       "             Timestamp Equipment_ID  Pressure  Temperature  Vibration  \\\n",
       "0  2025-06-01 00:00:00       SD_002      5.15        74.32       0.52   \n",
       "1  2025-06-01 00:15:00      AHU_002      5.23        87.85       0.50   \n",
       "2  2025-06-01 00:30:00      AHU_002      4.95        80.24       0.51   \n",
       "3  2025-06-01 00:45:00      AHU_001      5.01        85.44       0.38   \n",
       "4  2025-06-01 01:00:00      AHU_002      4.93        85.22       0.48   \n",
       "\n",
       "   Airflow_Rate  Chemical_Concentration Maintenance_Last_Date  \\\n",
       "0          2.61                   10.13            2025-03-13   \n",
       "1          2.38                   11.52            2025-04-22   \n",
       "2          2.34                    9.84            2025-03-08   \n",
       "3          2.39                   10.11            2025-04-24   \n",
       "4          2.49                   12.04            2025-04-18   \n",
       "\n",
       "   Maintenance_Frequency  Operational_Hours  Environmental_Temperature  \\\n",
       "0                      7              82.46                      27.83   \n",
       "1                      5              12.74                      23.91   \n",
       "2                      2             139.94                      26.95   \n",
       "3                      7              49.18                      25.16   \n",
       "4                      0             119.28                      26.23   \n",
       "\n",
       "   Environmental_Humidity  Worker_Presence  Safety_Protocol_Compliance  \\\n",
       "0                   89.50                8                       False   \n",
       "1                   85.00                5                        True   \n",
       "2                   65.20                9                        True   \n",
       "3                   87.66                3                        True   \n",
       "4                   63.71                6                        True   \n",
       "\n",
       "   Incident_History  Incident_Risk  \n",
       "0                 0          False  \n",
       "1                 2          False  \n",
       "2                 1          False  \n",
       "3                 1          False  \n",
       "4                 1          False  "
      ]
     },
     "execution_count": 33,
     "metadata": {},
     "output_type": "execute_result"
    }
   ],
   "source": [
    "# Check the first five observation of data\n",
    "\n",
    "df_industrial_safety_dataset.head()"
   ]
  },
  {
   "cell_type": "code",
   "execution_count": 35,
   "id": "3bb134c9-7483-4637-b92d-be04f1af14ec",
   "metadata": {},
   "outputs": [
    {
     "data": {
      "text/html": [
       "<div>\n",
       "<style scoped>\n",
       "    .dataframe tbody tr th:only-of-type {\n",
       "        vertical-align: middle;\n",
       "    }\n",
       "\n",
       "    .dataframe tbody tr th {\n",
       "        vertical-align: top;\n",
       "    }\n",
       "\n",
       "    .dataframe thead th {\n",
       "        text-align: right;\n",
       "    }\n",
       "</style>\n",
       "<table border=\"1\" class=\"dataframe\">\n",
       "  <thead>\n",
       "    <tr style=\"text-align: right;\">\n",
       "      <th></th>\n",
       "      <th>Timestamp</th>\n",
       "      <th>Equipment_ID</th>\n",
       "      <th>Pressure</th>\n",
       "      <th>Temperature</th>\n",
       "      <th>Vibration</th>\n",
       "      <th>Airflow_Rate</th>\n",
       "      <th>Chemical_Concentration</th>\n",
       "      <th>Maintenance_Last_Date</th>\n",
       "      <th>Maintenance_Frequency</th>\n",
       "      <th>Operational_Hours</th>\n",
       "      <th>Environmental_Temperature</th>\n",
       "      <th>Environmental_Humidity</th>\n",
       "      <th>Worker_Presence</th>\n",
       "      <th>Safety_Protocol_Compliance</th>\n",
       "      <th>Incident_History</th>\n",
       "      <th>Incident_Risk</th>\n",
       "    </tr>\n",
       "  </thead>\n",
       "  <tbody>\n",
       "    <tr>\n",
       "      <th>7995</th>\n",
       "      <td>2025-08-23 06:45:00</td>\n",
       "      <td>SD_001</td>\n",
       "      <td>4.35</td>\n",
       "      <td>75.23</td>\n",
       "      <td>0.52</td>\n",
       "      <td>2.57</td>\n",
       "      <td>10.55</td>\n",
       "      <td>2025-03-05</td>\n",
       "      <td>9</td>\n",
       "      <td>135.08</td>\n",
       "      <td>28.32</td>\n",
       "      <td>57.59</td>\n",
       "      <td>5</td>\n",
       "      <td>True</td>\n",
       "      <td>1</td>\n",
       "      <td>False</td>\n",
       "    </tr>\n",
       "    <tr>\n",
       "      <th>7996</th>\n",
       "      <td>2025-08-23 07:00:00</td>\n",
       "      <td>AHU_001</td>\n",
       "      <td>5.17</td>\n",
       "      <td>76.96</td>\n",
       "      <td>0.47</td>\n",
       "      <td>2.29</td>\n",
       "      <td>5.96</td>\n",
       "      <td>2025-04-11</td>\n",
       "      <td>5</td>\n",
       "      <td>21.29</td>\n",
       "      <td>31.50</td>\n",
       "      <td>86.12</td>\n",
       "      <td>6</td>\n",
       "      <td>True</td>\n",
       "      <td>4</td>\n",
       "      <td>True</td>\n",
       "    </tr>\n",
       "    <tr>\n",
       "      <th>7997</th>\n",
       "      <td>2025-08-23 07:15:00</td>\n",
       "      <td>SD_002</td>\n",
       "      <td>4.68</td>\n",
       "      <td>79.49</td>\n",
       "      <td>0.52</td>\n",
       "      <td>1.67</td>\n",
       "      <td>11.84</td>\n",
       "      <td>2025-05-26</td>\n",
       "      <td>1</td>\n",
       "      <td>145.05</td>\n",
       "      <td>21.49</td>\n",
       "      <td>82.88</td>\n",
       "      <td>9</td>\n",
       "      <td>True</td>\n",
       "      <td>0</td>\n",
       "      <td>False</td>\n",
       "    </tr>\n",
       "    <tr>\n",
       "      <th>7998</th>\n",
       "      <td>2025-08-23 07:30:00</td>\n",
       "      <td>SD_002</td>\n",
       "      <td>5.22</td>\n",
       "      <td>79.87</td>\n",
       "      <td>0.37</td>\n",
       "      <td>2.56</td>\n",
       "      <td>9.19</td>\n",
       "      <td>2025-04-24</td>\n",
       "      <td>0</td>\n",
       "      <td>96.60</td>\n",
       "      <td>28.13</td>\n",
       "      <td>36.36</td>\n",
       "      <td>5</td>\n",
       "      <td>True</td>\n",
       "      <td>2</td>\n",
       "      <td>False</td>\n",
       "    </tr>\n",
       "    <tr>\n",
       "      <th>7999</th>\n",
       "      <td>2025-08-23 07:45:00</td>\n",
       "      <td>SD_002</td>\n",
       "      <td>5.22</td>\n",
       "      <td>76.90</td>\n",
       "      <td>0.48</td>\n",
       "      <td>2.72</td>\n",
       "      <td>11.07</td>\n",
       "      <td>2025-04-01</td>\n",
       "      <td>3</td>\n",
       "      <td>106.02</td>\n",
       "      <td>21.30</td>\n",
       "      <td>67.18</td>\n",
       "      <td>8</td>\n",
       "      <td>True</td>\n",
       "      <td>3</td>\n",
       "      <td>False</td>\n",
       "    </tr>\n",
       "  </tbody>\n",
       "</table>\n",
       "</div>"
      ],
      "text/plain": [
       "                Timestamp Equipment_ID  Pressure  Temperature  Vibration  \\\n",
       "7995  2025-08-23 06:45:00       SD_001      4.35        75.23       0.52   \n",
       "7996  2025-08-23 07:00:00      AHU_001      5.17        76.96       0.47   \n",
       "7997  2025-08-23 07:15:00       SD_002      4.68        79.49       0.52   \n",
       "7998  2025-08-23 07:30:00       SD_002      5.22        79.87       0.37   \n",
       "7999  2025-08-23 07:45:00       SD_002      5.22        76.90       0.48   \n",
       "\n",
       "      Airflow_Rate  Chemical_Concentration Maintenance_Last_Date  \\\n",
       "7995          2.57                   10.55            2025-03-05   \n",
       "7996          2.29                    5.96            2025-04-11   \n",
       "7997          1.67                   11.84            2025-05-26   \n",
       "7998          2.56                    9.19            2025-04-24   \n",
       "7999          2.72                   11.07            2025-04-01   \n",
       "\n",
       "      Maintenance_Frequency  Operational_Hours  Environmental_Temperature  \\\n",
       "7995                      9             135.08                      28.32   \n",
       "7996                      5              21.29                      31.50   \n",
       "7997                      1             145.05                      21.49   \n",
       "7998                      0              96.60                      28.13   \n",
       "7999                      3             106.02                      21.30   \n",
       "\n",
       "      Environmental_Humidity  Worker_Presence  Safety_Protocol_Compliance  \\\n",
       "7995                   57.59                5                        True   \n",
       "7996                   86.12                6                        True   \n",
       "7997                   82.88                9                        True   \n",
       "7998                   36.36                5                        True   \n",
       "7999                   67.18                8                        True   \n",
       "\n",
       "      Incident_History  Incident_Risk  \n",
       "7995                 1          False  \n",
       "7996                 4           True  \n",
       "7997                 0          False  \n",
       "7998                 2          False  \n",
       "7999                 3          False  "
      ]
     },
     "execution_count": 35,
     "metadata": {},
     "output_type": "execute_result"
    }
   ],
   "source": [
    "# check the last five observation\n",
    "df_industrial_safety_dataset.tail()"
   ]
  },
  {
   "cell_type": "markdown",
   "id": "da07a283-e120-4955-a82f-66cab0247e27",
   "metadata": {},
   "source": [
    "## Data over view"
   ]
  },
  {
   "cell_type": "code",
   "execution_count": 15,
   "id": "30652212-d669-44ff-8280-afbb23efd2db",
   "metadata": {},
   "outputs": [
    {
     "data": {
      "text/plain": [
       "Index(['Timestamp', 'Equipment_ID', 'Pressure', 'Temperature', 'Vibration',\n",
       "       'Airflow_Rate', 'Chemical_Concentration', 'Maintenance_Last_Date',\n",
       "       'Maintenance_Frequency', 'Operational_Hours',\n",
       "       'Environmental_Temperature', 'Environmental_Humidity',\n",
       "       'Worker_Presence', 'Safety_Protocol_Compliance', 'Incident_History',\n",
       "       'Incident_Risk'],\n",
       "      dtype='object')"
      ]
     },
     "execution_count": 15,
     "metadata": {},
     "output_type": "execute_result"
    }
   ],
   "source": [
    "# check the colunm we have into the data\n",
    "\n",
    "df_industrial_safety_dataset.columns"
   ]
  },
  {
   "cell_type": "markdown",
   "id": "1691c7b4-c8f0-48e5-808a-f7d9bb6bba9d",
   "metadata": {},
   "source": [
    "**interpritation**\n",
    "  - 'Timestamp':Date and time of data collection\n",
    "  - 'Equipment_ID':Unique ID for each equipment\n",
    "  - 'Pressure': Internal pressure \n",
    "  - 'Temperature':Internal equipment temperature\n",
    "  - 'Vibration':Vibration level\n",
    "  -  'Airflow_Rate:Rate of airflow through the equipment\n",
    "  -  'Chemical_Concentration:Chemical levels\n",
    "  -  'Maintenance_Last_Date:Last date of maintenance\n",
    "  -   'Maintenance_Frequenc:Recommended days between maintenance\n",
    "  - , 'Operational_Hour:Total operational hours\n",
    "  -    'Environmental_Temperatu:Surrounding temperature\t\n",
    "  - ', 'Environmental_Humidi:Surrounding humidity level\t\n",
    "  -     'Worker_Prese:Binary or count of workers near machine\n",
    "  - e', 'Safety_Protocol_Complia:Whether safety protocols were followed \n",
    "  - e', 'Incident_Hist:Count of past incidents\n",
    "  -      'Incident_:Predicted likelihood or label of a future incidentRisk'"
   ]
  },
  {
   "cell_type": "code",
   "execution_count": 37,
   "id": "d6faee16-7359-4965-affd-2f05f9a14226",
   "metadata": {},
   "outputs": [
    {
     "data": {
      "text/plain": [
       "(8000, 16)"
      ]
     },
     "execution_count": 37,
     "metadata": {},
     "output_type": "execute_result"
    }
   ],
   "source": [
    "# check the shape of the data\n",
    "df_industrial_safety_dataset.shape"
   ]
  },
  {
   "cell_type": "markdown",
   "id": "553113d4-07c4-48a3-a94c-870fede3e5b8",
   "metadata": {},
   "source": [
    "**interpritation**\n",
    " - we have 8000 observation and 16 attributes"
   ]
  },
  {
   "cell_type": "code",
   "execution_count": 39,
   "id": "a12a8134-1f88-4dbb-8e19-8d48ac7355ff",
   "metadata": {},
   "outputs": [
    {
     "name": "stdout",
     "output_type": "stream",
     "text": [
      "<class 'pandas.core.frame.DataFrame'>\n",
      "RangeIndex: 8000 entries, 0 to 7999\n",
      "Data columns (total 16 columns):\n",
      " #   Column                      Non-Null Count  Dtype  \n",
      "---  ------                      --------------  -----  \n",
      " 0   Timestamp                   8000 non-null   object \n",
      " 1   Equipment_ID                8000 non-null   object \n",
      " 2   Pressure                    8000 non-null   float64\n",
      " 3   Temperature                 8000 non-null   float64\n",
      " 4   Vibration                   8000 non-null   float64\n",
      " 5   Airflow_Rate                8000 non-null   float64\n",
      " 6   Chemical_Concentration      8000 non-null   float64\n",
      " 7   Maintenance_Last_Date       8000 non-null   object \n",
      " 8   Maintenance_Frequency       8000 non-null   int64  \n",
      " 9   Operational_Hours           8000 non-null   float64\n",
      " 10  Environmental_Temperature   8000 non-null   float64\n",
      " 11  Environmental_Humidity      8000 non-null   float64\n",
      " 12  Worker_Presence             8000 non-null   int64  \n",
      " 13  Safety_Protocol_Compliance  8000 non-null   bool   \n",
      " 14  Incident_History            8000 non-null   int64  \n",
      " 15  Incident_Risk               8000 non-null   bool   \n",
      "dtypes: bool(2), float64(8), int64(3), object(3)\n",
      "memory usage: 890.8+ KB\n"
     ]
    }
   ],
   "source": [
    "# check the basic info\n",
    "df_industrial_safety_dataset.info()"
   ]
  },
  {
   "cell_type": "markdown",
   "id": "0f2329a6-859c-4375-8b62-d501291914d3",
   "metadata": {},
   "source": [
    "**interpritation**\n",
    " - we have 13 nymerical column and 3 categorical column\n",
    " - this data aquired 890.8+ KB space"
   ]
  },
  {
   "cell_type": "code",
   "execution_count": 42,
   "id": "62bd7064-48f5-4bd0-9b1d-6bfcc020f6a3",
   "metadata": {},
   "outputs": [
    {
     "data": {
      "text/html": [
       "<div>\n",
       "<style scoped>\n",
       "    .dataframe tbody tr th:only-of-type {\n",
       "        vertical-align: middle;\n",
       "    }\n",
       "\n",
       "    .dataframe tbody tr th {\n",
       "        vertical-align: top;\n",
       "    }\n",
       "\n",
       "    .dataframe thead th {\n",
       "        text-align: right;\n",
       "    }\n",
       "</style>\n",
       "<table border=\"1\" class=\"dataframe\">\n",
       "  <thead>\n",
       "    <tr style=\"text-align: right;\">\n",
       "      <th></th>\n",
       "      <th>count</th>\n",
       "      <th>mean</th>\n",
       "      <th>std</th>\n",
       "      <th>min</th>\n",
       "      <th>25%</th>\n",
       "      <th>50%</th>\n",
       "      <th>75%</th>\n",
       "      <th>max</th>\n",
       "    </tr>\n",
       "  </thead>\n",
       "  <tbody>\n",
       "    <tr>\n",
       "      <th>Pressure</th>\n",
       "      <td>8000.0</td>\n",
       "      <td>5.002341</td>\n",
       "      <td>0.502004</td>\n",
       "      <td>3.07</td>\n",
       "      <td>4.6600</td>\n",
       "      <td>5.000</td>\n",
       "      <td>5.3500</td>\n",
       "      <td>7.24</td>\n",
       "    </tr>\n",
       "    <tr>\n",
       "      <th>Temperature</th>\n",
       "      <td>8000.0</td>\n",
       "      <td>79.994695</td>\n",
       "      <td>5.053586</td>\n",
       "      <td>57.67</td>\n",
       "      <td>76.5000</td>\n",
       "      <td>80.000</td>\n",
       "      <td>83.4625</td>\n",
       "      <td>98.64</td>\n",
       "    </tr>\n",
       "    <tr>\n",
       "      <th>Vibration</th>\n",
       "      <td>8000.0</td>\n",
       "      <td>0.501227</td>\n",
       "      <td>0.099462</td>\n",
       "      <td>0.14</td>\n",
       "      <td>0.4300</td>\n",
       "      <td>0.500</td>\n",
       "      <td>0.5700</td>\n",
       "      <td>0.85</td>\n",
       "    </tr>\n",
       "    <tr>\n",
       "      <th>Airflow_Rate</th>\n",
       "      <td>8000.0</td>\n",
       "      <td>2.499415</td>\n",
       "      <td>0.301899</td>\n",
       "      <td>1.47</td>\n",
       "      <td>2.3000</td>\n",
       "      <td>2.500</td>\n",
       "      <td>2.7000</td>\n",
       "      <td>3.62</td>\n",
       "    </tr>\n",
       "    <tr>\n",
       "      <th>Chemical_Concentration</th>\n",
       "      <td>8000.0</td>\n",
       "      <td>10.022599</td>\n",
       "      <td>2.019230</td>\n",
       "      <td>1.68</td>\n",
       "      <td>8.6400</td>\n",
       "      <td>10.030</td>\n",
       "      <td>11.4000</td>\n",
       "      <td>16.94</td>\n",
       "    </tr>\n",
       "    <tr>\n",
       "      <th>Maintenance_Frequency</th>\n",
       "      <td>8000.0</td>\n",
       "      <td>5.005125</td>\n",
       "      <td>3.164427</td>\n",
       "      <td>0.00</td>\n",
       "      <td>2.0000</td>\n",
       "      <td>5.000</td>\n",
       "      <td>8.0000</td>\n",
       "      <td>10.00</td>\n",
       "    </tr>\n",
       "    <tr>\n",
       "      <th>Operational_Hours</th>\n",
       "      <td>8000.0</td>\n",
       "      <td>99.771864</td>\n",
       "      <td>57.388386</td>\n",
       "      <td>0.07</td>\n",
       "      <td>49.5875</td>\n",
       "      <td>100.105</td>\n",
       "      <td>149.0125</td>\n",
       "      <td>199.98</td>\n",
       "    </tr>\n",
       "    <tr>\n",
       "      <th>Environmental_Temperature</th>\n",
       "      <td>8000.0</td>\n",
       "      <td>27.012316</td>\n",
       "      <td>3.042728</td>\n",
       "      <td>15.84</td>\n",
       "      <td>24.9100</td>\n",
       "      <td>27.020</td>\n",
       "      <td>29.0300</td>\n",
       "      <td>37.49</td>\n",
       "    </tr>\n",
       "    <tr>\n",
       "      <th>Environmental_Humidity</th>\n",
       "      <td>8000.0</td>\n",
       "      <td>59.908071</td>\n",
       "      <td>17.307974</td>\n",
       "      <td>30.02</td>\n",
       "      <td>44.6650</td>\n",
       "      <td>60.075</td>\n",
       "      <td>74.8625</td>\n",
       "      <td>89.99</td>\n",
       "    </tr>\n",
       "    <tr>\n",
       "      <th>Worker_Presence</th>\n",
       "      <td>8000.0</td>\n",
       "      <td>5.026250</td>\n",
       "      <td>3.150921</td>\n",
       "      <td>0.00</td>\n",
       "      <td>2.0000</td>\n",
       "      <td>5.000</td>\n",
       "      <td>8.0000</td>\n",
       "      <td>10.00</td>\n",
       "    </tr>\n",
       "    <tr>\n",
       "      <th>Incident_History</th>\n",
       "      <td>8000.0</td>\n",
       "      <td>1.002125</td>\n",
       "      <td>1.011557</td>\n",
       "      <td>0.00</td>\n",
       "      <td>0.0000</td>\n",
       "      <td>1.000</td>\n",
       "      <td>2.0000</td>\n",
       "      <td>6.00</td>\n",
       "    </tr>\n",
       "  </tbody>\n",
       "</table>\n",
       "</div>"
      ],
      "text/plain": [
       "                            count       mean        std    min      25%  \\\n",
       "Pressure                   8000.0   5.002341   0.502004   3.07   4.6600   \n",
       "Temperature                8000.0  79.994695   5.053586  57.67  76.5000   \n",
       "Vibration                  8000.0   0.501227   0.099462   0.14   0.4300   \n",
       "Airflow_Rate               8000.0   2.499415   0.301899   1.47   2.3000   \n",
       "Chemical_Concentration     8000.0  10.022599   2.019230   1.68   8.6400   \n",
       "Maintenance_Frequency      8000.0   5.005125   3.164427   0.00   2.0000   \n",
       "Operational_Hours          8000.0  99.771864  57.388386   0.07  49.5875   \n",
       "Environmental_Temperature  8000.0  27.012316   3.042728  15.84  24.9100   \n",
       "Environmental_Humidity     8000.0  59.908071  17.307974  30.02  44.6650   \n",
       "Worker_Presence            8000.0   5.026250   3.150921   0.00   2.0000   \n",
       "Incident_History           8000.0   1.002125   1.011557   0.00   0.0000   \n",
       "\n",
       "                               50%       75%     max  \n",
       "Pressure                     5.000    5.3500    7.24  \n",
       "Temperature                 80.000   83.4625   98.64  \n",
       "Vibration                    0.500    0.5700    0.85  \n",
       "Airflow_Rate                 2.500    2.7000    3.62  \n",
       "Chemical_Concentration      10.030   11.4000   16.94  \n",
       "Maintenance_Frequency        5.000    8.0000   10.00  \n",
       "Operational_Hours          100.105  149.0125  199.98  \n",
       "Environmental_Temperature   27.020   29.0300   37.49  \n",
       "Environmental_Humidity      60.075   74.8625   89.99  \n",
       "Worker_Presence              5.000    8.0000   10.00  \n",
       "Incident_History             1.000    2.0000    6.00  "
      ]
     },
     "execution_count": 42,
     "metadata": {},
     "output_type": "execute_result"
    }
   ],
   "source": [
    "# check for basic statestic\n",
    "df_industrial_safety_dataset.describe().T"
   ]
  },
  {
   "cell_type": "markdown",
   "id": "7831362a-1ec0-4f0b-b250-44ac2450051c",
   "metadata": {},
   "source": [
    "**inerpritation**\n",
    " - after observing this table has no outlier present.\n"
   ]
  },
  {
   "cell_type": "markdown",
   "id": "d7965a66-653d-47bf-a9d8-bc533bf29550",
   "metadata": {},
   "source": [
    "## Data Pre-processing"
   ]
  },
  {
   "cell_type": "markdown",
   "id": "df3cbf6c-b388-4800-a9e5-aa579b89038d",
   "metadata": {},
   "source": [
    "### Data Cleaning\n"
   ]
  },
  {
   "cell_type": "code",
   "execution_count": 45,
   "id": "ceea06c4-8650-414a-b690-b7eda8b990a3",
   "metadata": {},
   "outputs": [
    {
     "data": {
      "text/plain": [
       "Index(['Timestamp', 'Equipment_ID', 'Pressure', 'Temperature', 'Vibration',\n",
       "       'Airflow_Rate', 'Chemical_Concentration', 'Maintenance_Last_Date',\n",
       "       'Maintenance_Frequency', 'Operational_Hours',\n",
       "       'Environmental_Temperature', 'Environmental_Humidity',\n",
       "       'Worker_Presence', 'Safety_Protocol_Compliance', 'Incident_History',\n",
       "       'Incident_Risk'],\n",
       "      dtype='object')"
      ]
     },
     "execution_count": 45,
     "metadata": {},
     "output_type": "execute_result"
    }
   ],
   "source": [
    "# Cheack The Name Of The Column\n",
    "df_industrial_safety_dataset.columns"
   ]
  },
  {
   "cell_type": "markdown",
   "id": "756400b5-67fc-47bc-9224-4a767c10b244",
   "metadata": {},
   "source": [
    "**Interpritation**\n",
    " - after looking at the column i conclude that ther is no need to rename the column."
   ]
  },
  {
   "cell_type": "code",
   "execution_count": 47,
   "id": "869b6e4f-859c-497a-87bb-220a2b370730",
   "metadata": {},
   "outputs": [
    {
     "data": {
      "text/html": [
       "<div>\n",
       "<style scoped>\n",
       "    .dataframe tbody tr th:only-of-type {\n",
       "        vertical-align: middle;\n",
       "    }\n",
       "\n",
       "    .dataframe tbody tr th {\n",
       "        vertical-align: top;\n",
       "    }\n",
       "\n",
       "    .dataframe thead th {\n",
       "        text-align: right;\n",
       "    }\n",
       "</style>\n",
       "<table border=\"1\" class=\"dataframe\">\n",
       "  <thead>\n",
       "    <tr style=\"text-align: right;\">\n",
       "      <th></th>\n",
       "      <th>Timestamp</th>\n",
       "      <th>Equipment_ID</th>\n",
       "      <th>Pressure</th>\n",
       "      <th>Temperature</th>\n",
       "      <th>Vibration</th>\n",
       "      <th>Airflow_Rate</th>\n",
       "      <th>Chemical_Concentration</th>\n",
       "      <th>Maintenance_Last_Date</th>\n",
       "      <th>Maintenance_Frequency</th>\n",
       "      <th>Operational_Hours</th>\n",
       "      <th>Environmental_Temperature</th>\n",
       "      <th>Environmental_Humidity</th>\n",
       "      <th>Worker_Presence</th>\n",
       "      <th>Safety_Protocol_Compliance</th>\n",
       "      <th>Incident_History</th>\n",
       "      <th>Incident_Risk</th>\n",
       "    </tr>\n",
       "  </thead>\n",
       "  <tbody>\n",
       "    <tr>\n",
       "      <th>0</th>\n",
       "      <td>2025-06-01 00:00:00</td>\n",
       "      <td>SD_002</td>\n",
       "      <td>5.15</td>\n",
       "      <td>74.32</td>\n",
       "      <td>0.52</td>\n",
       "      <td>2.61</td>\n",
       "      <td>10.13</td>\n",
       "      <td>2025-03-13</td>\n",
       "      <td>7</td>\n",
       "      <td>82.46</td>\n",
       "      <td>27.83</td>\n",
       "      <td>89.50</td>\n",
       "      <td>8</td>\n",
       "      <td>False</td>\n",
       "      <td>0</td>\n",
       "      <td>False</td>\n",
       "    </tr>\n",
       "    <tr>\n",
       "      <th>1</th>\n",
       "      <td>2025-06-01 00:15:00</td>\n",
       "      <td>AHU_002</td>\n",
       "      <td>5.23</td>\n",
       "      <td>87.85</td>\n",
       "      <td>0.50</td>\n",
       "      <td>2.38</td>\n",
       "      <td>11.52</td>\n",
       "      <td>2025-04-22</td>\n",
       "      <td>5</td>\n",
       "      <td>12.74</td>\n",
       "      <td>23.91</td>\n",
       "      <td>85.00</td>\n",
       "      <td>5</td>\n",
       "      <td>True</td>\n",
       "      <td>2</td>\n",
       "      <td>False</td>\n",
       "    </tr>\n",
       "    <tr>\n",
       "      <th>2</th>\n",
       "      <td>2025-06-01 00:30:00</td>\n",
       "      <td>AHU_002</td>\n",
       "      <td>4.95</td>\n",
       "      <td>80.24</td>\n",
       "      <td>0.51</td>\n",
       "      <td>2.34</td>\n",
       "      <td>9.84</td>\n",
       "      <td>2025-03-08</td>\n",
       "      <td>2</td>\n",
       "      <td>139.94</td>\n",
       "      <td>26.95</td>\n",
       "      <td>65.20</td>\n",
       "      <td>9</td>\n",
       "      <td>True</td>\n",
       "      <td>1</td>\n",
       "      <td>False</td>\n",
       "    </tr>\n",
       "    <tr>\n",
       "      <th>3</th>\n",
       "      <td>2025-06-01 00:45:00</td>\n",
       "      <td>AHU_001</td>\n",
       "      <td>5.01</td>\n",
       "      <td>85.44</td>\n",
       "      <td>0.38</td>\n",
       "      <td>2.39</td>\n",
       "      <td>10.11</td>\n",
       "      <td>2025-04-24</td>\n",
       "      <td>7</td>\n",
       "      <td>49.18</td>\n",
       "      <td>25.16</td>\n",
       "      <td>87.66</td>\n",
       "      <td>3</td>\n",
       "      <td>True</td>\n",
       "      <td>1</td>\n",
       "      <td>False</td>\n",
       "    </tr>\n",
       "    <tr>\n",
       "      <th>4</th>\n",
       "      <td>2025-06-01 01:00:00</td>\n",
       "      <td>AHU_002</td>\n",
       "      <td>4.93</td>\n",
       "      <td>85.22</td>\n",
       "      <td>0.48</td>\n",
       "      <td>2.49</td>\n",
       "      <td>12.04</td>\n",
       "      <td>2025-04-18</td>\n",
       "      <td>0</td>\n",
       "      <td>119.28</td>\n",
       "      <td>26.23</td>\n",
       "      <td>63.71</td>\n",
       "      <td>6</td>\n",
       "      <td>True</td>\n",
       "      <td>1</td>\n",
       "      <td>False</td>\n",
       "    </tr>\n",
       "  </tbody>\n",
       "</table>\n",
       "</div>"
      ],
      "text/plain": [
       "             Timestamp Equipment_ID  Pressure  Temperature  Vibration  \\\n",
       "0  2025-06-01 00:00:00       SD_002      5.15        74.32       0.52   \n",
       "1  2025-06-01 00:15:00      AHU_002      5.23        87.85       0.50   \n",
       "2  2025-06-01 00:30:00      AHU_002      4.95        80.24       0.51   \n",
       "3  2025-06-01 00:45:00      AHU_001      5.01        85.44       0.38   \n",
       "4  2025-06-01 01:00:00      AHU_002      4.93        85.22       0.48   \n",
       "\n",
       "   Airflow_Rate  Chemical_Concentration Maintenance_Last_Date  \\\n",
       "0          2.61                   10.13            2025-03-13   \n",
       "1          2.38                   11.52            2025-04-22   \n",
       "2          2.34                    9.84            2025-03-08   \n",
       "3          2.39                   10.11            2025-04-24   \n",
       "4          2.49                   12.04            2025-04-18   \n",
       "\n",
       "   Maintenance_Frequency  Operational_Hours  Environmental_Temperature  \\\n",
       "0                      7              82.46                      27.83   \n",
       "1                      5              12.74                      23.91   \n",
       "2                      2             139.94                      26.95   \n",
       "3                      7              49.18                      25.16   \n",
       "4                      0             119.28                      26.23   \n",
       "\n",
       "   Environmental_Humidity  Worker_Presence  Safety_Protocol_Compliance  \\\n",
       "0                   89.50                8                       False   \n",
       "1                   85.00                5                        True   \n",
       "2                   65.20                9                        True   \n",
       "3                   87.66                3                        True   \n",
       "4                   63.71                6                        True   \n",
       "\n",
       "   Incident_History  Incident_Risk  \n",
       "0                 0          False  \n",
       "1                 2          False  \n",
       "2                 1          False  \n",
       "3                 1          False  \n",
       "4                 1          False  "
      ]
     },
     "execution_count": 47,
     "metadata": {},
     "output_type": "execute_result"
    }
   ],
   "source": [
    "# Cheack The Formate Of Column\n",
    "df_industrial_safety_dataset.head()"
   ]
  },
  {
   "cell_type": "markdown",
   "id": "10101a88-5cf0-4776-9f78-e4b4a6e33f20",
   "metadata": {},
   "source": [
    "**interpritation**\n",
    " - There is no impurity present."
   ]
  },
  {
   "cell_type": "markdown",
   "id": "ef1c6603-3a2f-4c46-a83b-9260d69b9efd",
   "metadata": {},
   "source": [
    "### Null Value Handaling"
   ]
  },
  {
   "cell_type": "code",
   "execution_count": 50,
   "id": "aab7658f-dbc1-46e7-83c0-e5866e2013b4",
   "metadata": {},
   "outputs": [
    {
     "data": {
      "text/plain": [
       "Timestamp                     0\n",
       "Equipment_ID                  0\n",
       "Pressure                      0\n",
       "Temperature                   0\n",
       "Vibration                     0\n",
       "Airflow_Rate                  0\n",
       "Chemical_Concentration        0\n",
       "Maintenance_Last_Date         0\n",
       "Maintenance_Frequency         0\n",
       "Operational_Hours             0\n",
       "Environmental_Temperature     0\n",
       "Environmental_Humidity        0\n",
       "Worker_Presence               0\n",
       "Safety_Protocol_Compliance    0\n",
       "Incident_History              0\n",
       "Incident_Risk                 0\n",
       "dtype: int64"
      ]
     },
     "execution_count": 50,
     "metadata": {},
     "output_type": "execute_result"
    }
   ],
   "source": [
    "# check the count of null recorde\n",
    "df_industrial_safety_dataset.isnull().sum()"
   ]
  },
  {
   "cell_type": "code",
   "execution_count": 52,
   "id": "62b3ba16-713b-4869-b536-4fefd00ca0db",
   "metadata": {},
   "outputs": [
    {
     "data": {
      "text/plain": [
       "Timestamp                     0.0\n",
       "Equipment_ID                  0.0\n",
       "Pressure                      0.0\n",
       "Temperature                   0.0\n",
       "Vibration                     0.0\n",
       "Airflow_Rate                  0.0\n",
       "Chemical_Concentration        0.0\n",
       "Maintenance_Last_Date         0.0\n",
       "Maintenance_Frequency         0.0\n",
       "Operational_Hours             0.0\n",
       "Environmental_Temperature     0.0\n",
       "Environmental_Humidity        0.0\n",
       "Worker_Presence               0.0\n",
       "Safety_Protocol_Compliance    0.0\n",
       "Incident_History              0.0\n",
       "Incident_Risk                 0.0\n",
       "dtype: float64"
      ]
     },
     "execution_count": 52,
     "metadata": {},
     "output_type": "execute_result"
    }
   ],
   "source": [
    "# Find the % for the null recorde\n",
    "# NOTE: we have to find the % of the null recorde bcz the law we have for handling the null recorde depends on %\n",
    "df_industrial_safety_dataset.isnull().sum()/len(df_industrial_safety_dataset)*100"
   ]
  },
  {
   "cell_type": "markdown",
   "id": "28b9281b-80e3-45b4-80f3-ab7e9f10bdb2",
   "metadata": {},
   "source": [
    "**Interpritation**\n",
    " - After observation we conclude that there is no null recorde present."
   ]
  },
  {
   "cell_type": "markdown",
   "id": "e877bdb0-9690-4979-8f70-1ce351403983",
   "metadata": {},
   "source": [
    "### Outlier Treatment\n"
   ]
  },
  {
   "cell_type": "code",
   "execution_count": 57,
   "id": "07375d29-0c1e-4797-972e-6b070672dc64",
   "metadata": {},
   "outputs": [],
   "source": [
    "import pandas as pd\n",
    "\n",
    "# Load the dataset\n",
    "df_industrial_safety_dataset = pd.read_csv(\"industrial_safety_dataset_8000.csv\")\n",
    "\n",
    "# Convert boolean columns to integers (if needed)\n",
    "df_industrial_safety_dataset[\"Safety_Protocol_Compliance\"] = df_industrial_safety_dataset[\"Safety_Protocol_Compliance\"].astype(int)\n",
    "df_industrial_safety_dataset[\"Incident_Risk\"] = df_industrial_safety_dataset[\"Incident_Risk\"].astype(int)\n",
    "\n",
    "# Select numerical columns\n",
    "df_num = df.select_dtypes(include=['int64', 'float64']).columns\n",
    "\n",
    "# Apply IQR-based capping for each numerical column\n",
    "for col in df_num:\n",
    "    Q1 = df_industrial_safety_dataset[col].quantile(0.25)\n",
    "    Q3 = df_industrial_safety_dataset[col].quantile(0.75)\n",
    "    IQR = Q3 - Q1\n",
    "    lower_bound = Q1 - 1.5 * IQR\n",
    "    upper_bound = Q3 + 1.5 * IQR\n",
    "\n",
    "    # Cap values outside the IQR bounds\n",
    "    df_industrial_safety_dataset[col] = df_industrial_safety_dataset[col].clip(lower=lower_bound, upper=upper_bound)\n"
   ]
  },
  {
   "cell_type": "markdown",
   "id": "a1cfc2d7-f4ad-4ecb-9ed8-3058cb4e18b8",
   "metadata": {},
   "source": [
    "## EDA"
   ]
  },
  {
   "cell_type": "markdown",
   "id": "eb3be6f1-a8e8-4e31-b4c6-76935e6dcbd7",
   "metadata": {},
   "source": [
    "### Univariate analysis"
   ]
  },
  {
   "cell_type": "code",
   "execution_count": 59,
   "id": "cf17492f-014f-4d90-92c5-5145aaa9b286",
   "metadata": {},
   "outputs": [
    {
     "data": {
      "text/html": [
       "<div>\n",
       "<style scoped>\n",
       "    .dataframe tbody tr th:only-of-type {\n",
       "        vertical-align: middle;\n",
       "    }\n",
       "\n",
       "    .dataframe tbody tr th {\n",
       "        vertical-align: top;\n",
       "    }\n",
       "\n",
       "    .dataframe thead th {\n",
       "        text-align: right;\n",
       "    }\n",
       "</style>\n",
       "<table border=\"1\" class=\"dataframe\">\n",
       "  <thead>\n",
       "    <tr style=\"text-align: right;\">\n",
       "      <th></th>\n",
       "      <th>Pressure</th>\n",
       "      <th>Temperature</th>\n",
       "      <th>Vibration</th>\n",
       "      <th>Airflow_Rate</th>\n",
       "      <th>Chemical_Concentration</th>\n",
       "      <th>Maintenance_Frequency</th>\n",
       "      <th>Operational_Hours</th>\n",
       "      <th>Environmental_Temperature</th>\n",
       "      <th>Environmental_Humidity</th>\n",
       "      <th>Worker_Presence</th>\n",
       "      <th>Safety_Protocol_Compliance</th>\n",
       "      <th>Incident_History</th>\n",
       "      <th>Incident_Risk</th>\n",
       "    </tr>\n",
       "  </thead>\n",
       "  <tbody>\n",
       "    <tr>\n",
       "      <th>0</th>\n",
       "      <td>5.15</td>\n",
       "      <td>74.32</td>\n",
       "      <td>0.52</td>\n",
       "      <td>2.61</td>\n",
       "      <td>10.13</td>\n",
       "      <td>7</td>\n",
       "      <td>82.46</td>\n",
       "      <td>27.83</td>\n",
       "      <td>89.50</td>\n",
       "      <td>8</td>\n",
       "      <td>0</td>\n",
       "      <td>0</td>\n",
       "      <td>0</td>\n",
       "    </tr>\n",
       "    <tr>\n",
       "      <th>1</th>\n",
       "      <td>5.23</td>\n",
       "      <td>87.85</td>\n",
       "      <td>0.50</td>\n",
       "      <td>2.38</td>\n",
       "      <td>11.52</td>\n",
       "      <td>5</td>\n",
       "      <td>12.74</td>\n",
       "      <td>23.91</td>\n",
       "      <td>85.00</td>\n",
       "      <td>5</td>\n",
       "      <td>1</td>\n",
       "      <td>2</td>\n",
       "      <td>0</td>\n",
       "    </tr>\n",
       "    <tr>\n",
       "      <th>2</th>\n",
       "      <td>4.95</td>\n",
       "      <td>80.24</td>\n",
       "      <td>0.51</td>\n",
       "      <td>2.34</td>\n",
       "      <td>9.84</td>\n",
       "      <td>2</td>\n",
       "      <td>139.94</td>\n",
       "      <td>26.95</td>\n",
       "      <td>65.20</td>\n",
       "      <td>9</td>\n",
       "      <td>1</td>\n",
       "      <td>1</td>\n",
       "      <td>0</td>\n",
       "    </tr>\n",
       "    <tr>\n",
       "      <th>3</th>\n",
       "      <td>5.01</td>\n",
       "      <td>85.44</td>\n",
       "      <td>0.38</td>\n",
       "      <td>2.39</td>\n",
       "      <td>10.11</td>\n",
       "      <td>7</td>\n",
       "      <td>49.18</td>\n",
       "      <td>25.16</td>\n",
       "      <td>87.66</td>\n",
       "      <td>3</td>\n",
       "      <td>1</td>\n",
       "      <td>1</td>\n",
       "      <td>0</td>\n",
       "    </tr>\n",
       "    <tr>\n",
       "      <th>4</th>\n",
       "      <td>4.93</td>\n",
       "      <td>85.22</td>\n",
       "      <td>0.48</td>\n",
       "      <td>2.49</td>\n",
       "      <td>12.04</td>\n",
       "      <td>0</td>\n",
       "      <td>119.28</td>\n",
       "      <td>26.23</td>\n",
       "      <td>63.71</td>\n",
       "      <td>6</td>\n",
       "      <td>1</td>\n",
       "      <td>1</td>\n",
       "      <td>0</td>\n",
       "    </tr>\n",
       "  </tbody>\n",
       "</table>\n",
       "</div>"
      ],
      "text/plain": [
       "   Pressure  Temperature  Vibration  Airflow_Rate  Chemical_Concentration  \\\n",
       "0      5.15        74.32       0.52          2.61                   10.13   \n",
       "1      5.23        87.85       0.50          2.38                   11.52   \n",
       "2      4.95        80.24       0.51          2.34                    9.84   \n",
       "3      5.01        85.44       0.38          2.39                   10.11   \n",
       "4      4.93        85.22       0.48          2.49                   12.04   \n",
       "\n",
       "   Maintenance_Frequency  Operational_Hours  Environmental_Temperature  \\\n",
       "0                      7              82.46                      27.83   \n",
       "1                      5              12.74                      23.91   \n",
       "2                      2             139.94                      26.95   \n",
       "3                      7              49.18                      25.16   \n",
       "4                      0             119.28                      26.23   \n",
       "\n",
       "   Environmental_Humidity  Worker_Presence  Safety_Protocol_Compliance  \\\n",
       "0                   89.50                8                           0   \n",
       "1                   85.00                5                           1   \n",
       "2                   65.20                9                           1   \n",
       "3                   87.66                3                           1   \n",
       "4                   63.71                6                           1   \n",
       "\n",
       "   Incident_History  Incident_Risk  \n",
       "0                 0              0  \n",
       "1                 2              0  \n",
       "2                 1              0  \n",
       "3                 1              0  \n",
       "4                 1              0  "
      ]
     },
     "execution_count": 59,
     "metadata": {},
     "output_type": "execute_result"
    }
   ],
   "source": [
    "# to perfoeme univariate analays lets segrigate numerical & categorical data\n",
    "df_num = df_industrial_safety_dataset.select_dtypes(include='number')\n",
    "\n",
    "# check the numerical data\n",
    "df_num.head()"
   ]
  },
  {
   "cell_type": "code",
   "execution_count": 61,
   "id": "d41435ff-271a-46be-833f-17abc94a72cc",
   "metadata": {},
   "outputs": [
    {
     "data": {
      "text/html": [
       "<div>\n",
       "<style scoped>\n",
       "    .dataframe tbody tr th:only-of-type {\n",
       "        vertical-align: middle;\n",
       "    }\n",
       "\n",
       "    .dataframe tbody tr th {\n",
       "        vertical-align: top;\n",
       "    }\n",
       "\n",
       "    .dataframe thead th {\n",
       "        text-align: right;\n",
       "    }\n",
       "</style>\n",
       "<table border=\"1\" class=\"dataframe\">\n",
       "  <thead>\n",
       "    <tr style=\"text-align: right;\">\n",
       "      <th></th>\n",
       "      <th>Timestamp</th>\n",
       "      <th>Equipment_ID</th>\n",
       "      <th>Maintenance_Last_Date</th>\n",
       "    </tr>\n",
       "  </thead>\n",
       "  <tbody>\n",
       "    <tr>\n",
       "      <th>0</th>\n",
       "      <td>2025-06-01 00:00:00</td>\n",
       "      <td>SD_002</td>\n",
       "      <td>2025-03-13</td>\n",
       "    </tr>\n",
       "    <tr>\n",
       "      <th>1</th>\n",
       "      <td>2025-06-01 00:15:00</td>\n",
       "      <td>AHU_002</td>\n",
       "      <td>2025-04-22</td>\n",
       "    </tr>\n",
       "    <tr>\n",
       "      <th>2</th>\n",
       "      <td>2025-06-01 00:30:00</td>\n",
       "      <td>AHU_002</td>\n",
       "      <td>2025-03-08</td>\n",
       "    </tr>\n",
       "    <tr>\n",
       "      <th>3</th>\n",
       "      <td>2025-06-01 00:45:00</td>\n",
       "      <td>AHU_001</td>\n",
       "      <td>2025-04-24</td>\n",
       "    </tr>\n",
       "    <tr>\n",
       "      <th>4</th>\n",
       "      <td>2025-06-01 01:00:00</td>\n",
       "      <td>AHU_002</td>\n",
       "      <td>2025-04-18</td>\n",
       "    </tr>\n",
       "  </tbody>\n",
       "</table>\n",
       "</div>"
      ],
      "text/plain": [
       "             Timestamp Equipment_ID Maintenance_Last_Date\n",
       "0  2025-06-01 00:00:00       SD_002            2025-03-13\n",
       "1  2025-06-01 00:15:00      AHU_002            2025-04-22\n",
       "2  2025-06-01 00:30:00      AHU_002            2025-03-08\n",
       "3  2025-06-01 00:45:00      AHU_001            2025-04-24\n",
       "4  2025-06-01 01:00:00      AHU_002            2025-04-18"
      ]
     },
     "execution_count": 61,
     "metadata": {},
     "output_type": "execute_result"
    }
   ],
   "source": [
    "# seperate the categorical variable from main data frame\n",
    "df_cat= df_industrial_safety_dataset.select_dtypes(include='object')\n",
    "\n",
    "# check the categorical data\n",
    "df_cat.head()"
   ]
  },
  {
   "cell_type": "markdown",
   "id": "fb6c6e36-75f8-43c8-b869-24a25b37e304",
   "metadata": {},
   "source": [
    "#### univeriate analysis on numerical data"
   ]
  },
  {
   "cell_type": "code",
   "execution_count": 63,
   "id": "ccc16231-9c5d-464d-b6e0-94e3ac080134",
   "metadata": {},
   "outputs": [
    {
     "data": {
      "text/plain": [
       "Index(['Pressure', 'Temperature', 'Vibration', 'Airflow_Rate',\n",
       "       'Chemical_Concentration', 'Maintenance_Frequency', 'Operational_Hours',\n",
       "       'Environmental_Temperature', 'Environmental_Humidity',\n",
       "       'Worker_Presence', 'Safety_Protocol_Compliance', 'Incident_History',\n",
       "       'Incident_Risk'],\n",
       "      dtype='object')"
      ]
     },
     "execution_count": 63,
     "metadata": {},
     "output_type": "execute_result"
    }
   ],
   "source": [
    "# cheack the columnd\n",
    "df_num.columns"
   ]
  },
  {
   "cell_type": "markdown",
   "id": "9f1d5bfc-e446-4347-8008-38dd0d7cc2c4",
   "metadata": {},
   "source": [
    "##### Pressure"
   ]
  },
  {
   "cell_type": "code",
   "execution_count": 66,
   "id": "290e678c-e0f2-4f1a-9c59-ed59420c26d8",
   "metadata": {},
   "outputs": [
    {
     "data": {
      "text/plain": [
       "3.625000000000001"
      ]
     },
     "execution_count": 66,
     "metadata": {},
     "output_type": "execute_result"
    }
   ],
   "source": [
    "# find the minimal\n",
    "df_num.Pressure.min()"
   ]
  },
  {
   "cell_type": "code",
   "execution_count": 68,
   "id": "a1faa497-7caf-4045-8606-82ef55b9dc71",
   "metadata": {},
   "outputs": [
    {
     "data": {
      "text/plain": [
       "6.384999999999999"
      ]
     },
     "execution_count": 68,
     "metadata": {},
     "output_type": "execute_result"
    }
   ],
   "source": [
    "# find the maximum\n",
    "df_num.Pressure.max()"
   ]
  },
  {
   "cell_type": "code",
   "execution_count": 70,
   "id": "6550988c-8c96-4744-9213-5a0f4b51caa9",
   "metadata": {},
   "outputs": [
    {
     "data": {
      "text/plain": [
       "5.0023575000000005"
      ]
     },
     "execution_count": 70,
     "metadata": {},
     "output_type": "execute_result"
    }
   ],
   "source": [
    "# find the avg\n",
    "df_num.Pressure.mean()"
   ]
  },
  {
   "cell_type": "code",
   "execution_count": 72,
   "id": "70439647-8a58-44d9-b39d-edc37370f461",
   "metadata": {},
   "outputs": [
    {
     "data": {
      "image/png": "[encoded data removed]",
      "text/plain": [
       "<Figure size 640x480 with 1 Axes>"
      ]
     },
     "metadata": {},
     "output_type": "display_data"
    }
   ],
   "source": [
    "# cheack the vizulisition\n",
    "df_num.Pressure.plot(kind='kde', color='red')\n",
    "plt.title('Distribution of Pressure')\n",
    "plt.grid()"
   ]
  },
  {
   "cell_type": "markdown",
   "id": "411e51d3-1f99-4085-b4df-38f44b139e33",
   "metadata": {},
   "source": [
    "**interpritation**\n",
    " - min Pressure is 3.625000000000001\n",
    " - max Pressure is 6.384999999999999\n",
    " - avg Pressure is 5.0023575000000005\n",
    " - after looking at the disstribution i conclude that the distribution is normal."
   ]
  },
  {
   "cell_type": "markdown",
   "id": "7dde200a-7f70-4fcf-95d9-9788059b0324",
   "metadata": {},
   "source": [
    "#### Temperature"
   ]
  },
  {
   "cell_type": "code",
   "execution_count": 77,
   "id": "54b016cb-4d2f-4619-a549-62dfe88b9869",
   "metadata": {},
   "outputs": [
    {
     "data": {
      "text/plain": [
       "66.05625"
      ]
     },
     "execution_count": 77,
     "metadata": {},
     "output_type": "execute_result"
    }
   ],
   "source": [
    "# find the minimal\n",
    "df_num.Temperature.min()\n"
   ]
  },
  {
   "cell_type": "code",
   "execution_count": 79,
   "id": "5d9e0a9a-ce34-48e8-8fc4-f8e3b31954fe",
   "metadata": {},
   "outputs": [
    {
     "data": {
      "text/plain": [
       "93.90624999999997"
      ]
     },
     "execution_count": 79,
     "metadata": {},
     "output_type": "execute_result"
    }
   ],
   "source": [
    "# find the maximum\n",
    "df_num.Temperature.max()"
   ]
  },
  {
   "cell_type": "code",
   "execution_count": 81,
   "id": "810f24ed-160f-4f63-adae-3eff9e9ee67d",
   "metadata": {},
   "outputs": [
    {
     "data": {
      "text/plain": [
       "79.99523078124999"
      ]
     },
     "execution_count": 81,
     "metadata": {},
     "output_type": "execute_result"
    }
   ],
   "source": [
    "# find the avg\n",
    "df_num.Temperature.mean()"
   ]
  },
  {
   "cell_type": "code",
   "execution_count": 83,
   "id": "aa519935-5934-4a1c-9e51-6c3a27146485",
   "metadata": {},
   "outputs": [
    {
     "data": {
      "image/png": "[encoded data removed]",
      "text/plain": [
       "<Figure size 640x480 with 1 Axes>"
      ]
     },
     "metadata": {},
     "output_type": "display_data"
    }
   ],
   "source": [
    "# cheack the vizulisition\n",
    "df_num.Temperature.plot(kind='kde', color='red')\n",
    "plt.title('Distribution of Temperature')\n",
    "plt.grid()"
   ]
  },
  {
   "cell_type": "markdown",
   "id": "5207e8d2-86d5-4435-9a3d-c2e2362df189",
   "metadata": {},
   "source": [
    "**interpritation**\n",
    " - min Temperature is 66.05625\n",
    " - max Temperature is 93.90624999999997\n",
    " - avg Temperature is 79.99523078124999\n",
    " - after looking at the disstribution i conclude that the distribution is normal."
   ]
  },
  {
   "cell_type": "code",
   "execution_count": 86,
   "id": "c0f50170-1159-4796-900d-17a2d533f942",
   "metadata": {},
   "outputs": [
    {
     "data": {
      "text/plain": [
       "Index(['Pressure', 'Temperature', 'Vibration', 'Airflow_Rate',\n",
       "       'Chemical_Concentration', 'Maintenance_Frequency', 'Operational_Hours',\n",
       "       'Environmental_Temperature', 'Environmental_Humidity',\n",
       "       'Worker_Presence', 'Safety_Protocol_Compliance', 'Incident_History',\n",
       "       'Incident_Risk'],\n",
       "      dtype='object')"
      ]
     },
     "execution_count": 86,
     "metadata": {},
     "output_type": "execute_result"
    }
   ],
   "source": [
    "# check the column\n",
    "df_num.columns"
   ]
  },
  {
   "cell_type": "markdown",
   "id": "4855e056-6c2e-46fe-a5e2-142056d5315c",
   "metadata": {},
   "source": [
    "#### Vibration"
   ]
  },
  {
   "cell_type": "code",
   "execution_count": 88,
   "id": "aefdb7e7-2e1a-4b12-8f95-b82dd5e17e82",
   "metadata": {},
   "outputs": [
    {
     "data": {
      "text/plain": [
       "0.22000000000000006"
      ]
     },
     "execution_count": 88,
     "metadata": {},
     "output_type": "execute_result"
    }
   ],
   "source": [
    "# find the minimal\n",
    "df_num.Vibration.min()\n"
   ]
  },
  {
   "cell_type": "code",
   "execution_count": 90,
   "id": "ce581a4a-bddb-4a50-a230-5a1c314e9ee9",
   "metadata": {},
   "outputs": [
    {
     "data": {
      "text/plain": [
       "0.7799999999999999"
      ]
     },
     "execution_count": 90,
     "metadata": {},
     "output_type": "execute_result"
    }
   ],
   "source": [
    "# find the maximum\n",
    "df_num.Vibration.max()"
   ]
  },
  {
   "cell_type": "code",
   "execution_count": 92,
   "id": "5921b065-ca35-4e47-9763-51da944d1f87",
   "metadata": {},
   "outputs": [
    {
     "data": {
      "text/plain": [
       "0.50125"
      ]
     },
     "execution_count": 92,
     "metadata": {},
     "output_type": "execute_result"
    }
   ],
   "source": [
    "# find the avg\n",
    "df_num.Vibration.mean()"
   ]
  },
  {
   "cell_type": "code",
   "execution_count": 94,
   "id": "aaabd0d5-f271-44b5-992d-8515d664f8c6",
   "metadata": {},
   "outputs": [
    {
     "data": {
      "image/png": "[encoded data removed]",
      "text/plain": [
       "<Figure size 640x480 with 1 Axes>"
      ]
     },
     "metadata": {},
     "output_type": "display_data"
    }
   ],
   "source": [
    "# cheack the vizulisition\n",
    "df_num.Vibration.plot(kind='kde', color='red')\n",
    "plt.title('Distribution of Vibration')\n",
    "plt.grid()"
   ]
  },
  {
   "cell_type": "markdown",
   "id": "a095fbc9-23aa-4646-84d6-8c43a2f6b72b",
   "metadata": {},
   "source": [
    "**interpritation**\n",
    " - min Vibration is 0.22000000000000006\n",
    " - max Vibration is 0.7799999999999999\n",
    " - avg Vibration is 0.50125\n",
    " - after looking at the disstribution i conclude that the distribution is normal."
   ]
  },
  {
   "cell_type": "code",
   "execution_count": 97,
   "id": "8010c1d3-e843-450a-84dd-493b727c777f",
   "metadata": {},
   "outputs": [
    {
     "data": {
      "text/plain": [
       "Index(['Pressure', 'Temperature', 'Vibration', 'Airflow_Rate',\n",
       "       'Chemical_Concentration', 'Maintenance_Frequency', 'Operational_Hours',\n",
       "       'Environmental_Temperature', 'Environmental_Humidity',\n",
       "       'Worker_Presence', 'Safety_Protocol_Compliance', 'Incident_History',\n",
       "       'Incident_Risk'],\n",
       "      dtype='object')"
      ]
     },
     "execution_count": 97,
     "metadata": {},
     "output_type": "execute_result"
    }
   ],
   "source": [
    "# check the column\n",
    "df_num.columns"
   ]
  },
  {
   "cell_type": "markdown",
   "id": "9e743b6d-e5fe-4536-8d59-ddc9dcbc48bc",
   "metadata": {},
   "source": [
    "#### Airflow_Rate"
   ]
  },
  {
   "cell_type": "code",
   "execution_count": 109,
   "id": "7a2726bd-16cb-4729-a887-c6f74d1f7817",
   "metadata": {},
   "outputs": [
    {
     "data": {
      "text/plain": [
       "1.6999999999999993"
      ]
     },
     "execution_count": 109,
     "metadata": {},
     "output_type": "execute_result"
    }
   ],
   "source": [
    "# find the minimal\n",
    "df_num.Airflow_Rate.min()\n"
   ]
  },
  {
   "cell_type": "code",
   "execution_count": 111,
   "id": "a870da91-50a3-4b80-9ae6-101e1a6df204",
   "metadata": {},
   "outputs": [
    {
     "data": {
      "text/plain": [
       "3.3000000000000007"
      ]
     },
     "execution_count": 111,
     "metadata": {},
     "output_type": "execute_result"
    }
   ],
   "source": [
    "# find the maximum\n",
    "df_num.Airflow_Rate.max()"
   ]
  },
  {
   "cell_type": "code",
   "execution_count": 113,
   "id": "c6eb1a28-1468-443b-b418-772a1cd852c0",
   "metadata": {},
   "outputs": [
    {
     "data": {
      "text/plain": [
       "2.4995575"
      ]
     },
     "execution_count": 113,
     "metadata": {},
     "output_type": "execute_result"
    }
   ],
   "source": [
    "# find the avg\n",
    "df_num.Airflow_Rate.mean()"
   ]
  },
  {
   "cell_type": "code",
   "execution_count": 107,
   "id": "6ed3c44a-c78c-4df4-ae0a-7f4969676981",
   "metadata": {},
   "outputs": [
    {
     "data": {
      "image/png": "[encoded data removed]",
      "text/plain": [
       "<Figure size 640x480 with 1 Axes>"
      ]
     },
     "metadata": {},
     "output_type": "display_data"
    }
   ],
   "source": [
    "# cheack the vizulisition\n",
    "df_num.Airflow_Rate.plot(kind='kde', color='red')\n",
    "plt.title('Distribution of Airflow_Rate')\n",
    "plt.grid()"
   ]
  },
  {
   "cell_type": "markdown",
   "id": "878d0f6a-19f0-4315-a896-d17511920069",
   "metadata": {},
   "source": [
    "**interpritation**\n",
    " - min Airflow_Rate is 1.6999999999999993\n",
    " - max Airflow_Rate is 3.3000000000000007\n",
    " - avg Airflow_Rate is 2.4995575\n",
    " - after looking at the disstribution i conclude that the distribution is normal."
   ]
  },
  {
   "cell_type": "code",
   "execution_count": 117,
   "id": "e58c358b-7b1c-479e-8d5a-b5a39d714463",
   "metadata": {},
   "outputs": [
    {
     "data": {
      "text/plain": [
       "Index(['Pressure', 'Temperature', 'Vibration', 'Airflow_Rate',\n",
       "       'Chemical_Concentration', 'Maintenance_Frequency', 'Operational_Hours',\n",
       "       'Environmental_Temperature', 'Environmental_Humidity',\n",
       "       'Worker_Presence', 'Safety_Protocol_Compliance', 'Incident_History',\n",
       "       'Incident_Risk'],\n",
       "      dtype='object')"
      ]
     },
     "execution_count": 117,
     "metadata": {},
     "output_type": "execute_result"
    }
   ],
   "source": [
    "# check the column\n",
    "df_num.columns"
   ]
  },
  {
   "cell_type": "markdown",
   "id": "17f89d35-26e8-4782-8ded-3878e8527a4f",
   "metadata": {},
   "source": [
    "#### Chemical_Concentration"
   ]
  },
  {
   "cell_type": "code",
   "execution_count": 120,
   "id": "924c25e9-5d75-4e35-a118-09f2bd832f5e",
   "metadata": {},
   "outputs": [
    {
     "data": {
      "text/plain": [
       "4.500000000000001"
      ]
     },
     "execution_count": 120,
     "metadata": {},
     "output_type": "execute_result"
    }
   ],
   "source": [
    "# find the minimal\n",
    "df_num.Chemical_Concentration.min()\n"
   ]
  },
  {
   "cell_type": "code",
   "execution_count": 122,
   "id": "e90ab770-5bdb-4ded-8a83-6f8c543a9473",
   "metadata": {},
   "outputs": [
    {
     "data": {
      "text/plain": [
       "15.54"
      ]
     },
     "execution_count": 122,
     "metadata": {},
     "output_type": "execute_result"
    }
   ],
   "source": [
    "# find the maximum\n",
    "df_num.Chemical_Concentration.max()"
   ]
  },
  {
   "cell_type": "code",
   "execution_count": 124,
   "id": "2d447429-5d8c-46db-afc6-0dd85b46d5a3",
   "metadata": {},
   "outputs": [
    {
     "data": {
      "text/plain": [
       "10.0225625"
      ]
     },
     "execution_count": 124,
     "metadata": {},
     "output_type": "execute_result"
    }
   ],
   "source": [
    "# find the avg\n",
    "df_num.Chemical_Concentration.mean()"
   ]
  },
  {
   "cell_type": "code",
   "execution_count": 126,
   "id": "a8be0dcb-235c-4639-bcc6-01dc340fdff8",
   "metadata": {},
   "outputs": [
    {
     "data": {
      "image/png": "[encoded data removed]",
      "text/plain": [
       "<Figure size 640x480 with 1 Axes>"
      ]
     },
     "metadata": {},
     "output_type": "display_data"
    }
   ],
   "source": [
    "# cheack the vizulisition\n",
    "df_num.Chemical_Concentration.plot(kind='kde', color='red')\n",
    "plt.title('Distribution of Chemical_Concentration')\n",
    "plt.grid()"
   ]
  },
  {
   "cell_type": "markdown",
   "id": "9c543751-ac2b-4718-8e1d-8e2306ec7383",
   "metadata": {},
   "source": [
    "**interpritation**\n",
    " - min Chemical_Concentration is 4.500000000000001\n",
    " - max Chemical_Concentration is 15.54\n",
    " - avg Chemical_Concentration is 10.0225625\n",
    " - after looking at the disstribution i conclude that the distribution is normal."
   ]
  },
  {
   "cell_type": "code",
   "execution_count": 129,
   "id": "7e95b145-947b-43e0-be8d-782fe2ed0d4f",
   "metadata": {},
   "outputs": [
    {
     "data": {
      "text/plain": [
       "Index(['Pressure', 'Temperature', 'Vibration', 'Airflow_Rate',\n",
       "       'Chemical_Concentration', 'Maintenance_Frequency', 'Operational_Hours',\n",
       "       'Environmental_Temperature', 'Environmental_Humidity',\n",
       "       'Worker_Presence', 'Safety_Protocol_Compliance', 'Incident_History',\n",
       "       'Incident_Risk'],\n",
       "      dtype='object')"
      ]
     },
     "execution_count": 129,
     "metadata": {},
     "output_type": "execute_result"
    }
   ],
   "source": [
    "# check the column\n",
    "df_num.columns"
   ]
  },
  {
   "cell_type": "markdown",
   "id": "1b999e2d-0983-41d4-95f9-1a549820f9c1",
   "metadata": {},
   "source": [
    "#### Maintenance_Frequency"
   ]
  },
  {
   "cell_type": "code",
   "execution_count": 140,
   "id": "020ca63a-91d0-4a3e-a51c-8efb9f700238",
   "metadata": {},
   "outputs": [
    {
     "data": {
      "text/plain": [
       "0"
      ]
     },
     "execution_count": 140,
     "metadata": {},
     "output_type": "execute_result"
    }
   ],
   "source": [
    "# find the minimal\n",
    "df_num.Maintenance_Frequency.min()\n"
   ]
  },
  {
   "cell_type": "code",
   "execution_count": 142,
   "id": "f5e28057-c53f-47e4-ad81-6e55c6ee3b2b",
   "metadata": {},
   "outputs": [
    {
     "data": {
      "text/plain": [
       "10"
      ]
     },
     "execution_count": 142,
     "metadata": {},
     "output_type": "execute_result"
    }
   ],
   "source": [
    "# find the maximum\n",
    "df_num.Maintenance_Frequency.max()"
   ]
  },
  {
   "cell_type": "code",
   "execution_count": 144,
   "id": "af0ca1c8-e11a-451d-b57e-33ad0002ccb1",
   "metadata": {},
   "outputs": [
    {
     "data": {
      "text/plain": [
       "5.005125"
      ]
     },
     "execution_count": 144,
     "metadata": {},
     "output_type": "execute_result"
    }
   ],
   "source": [
    "# find the avg\n",
    "df_num.Maintenance_Frequency.mean()"
   ]
  },
  {
   "cell_type": "code",
   "execution_count": 147,
   "id": "b15c5601-db77-4adb-870f-60a96745c87d",
   "metadata": {},
   "outputs": [
    {
     "data": {
      "image/png": "[encoded data removed]",
      "text/plain": [
       "<Figure size 640x480 with 1 Axes>"
      ]
     },
     "metadata": {},
     "output_type": "display_data"
    }
   ],
   "source": [
    "# cheack the vizulisition\n",
    "df_num.Maintenance_Frequency.plot(kind='kde', color='red')\n",
    "plt.title('Distribution of Maintenance_Frequency')\n",
    "plt.grid()"
   ]
  },
  {
   "cell_type": "markdown",
   "id": "5f58c199-7850-4772-8dd6-3040821e145d",
   "metadata": {},
   "source": [
    "**interpritation**\n",
    " - min Maintenance_Frequency is 0\n",
    " - max Maintenance_Frequency is 10\n",
    " - avg Maintenance_Frequency is 5.005125\n",
    " - after looking at the disstribution i conclude that the distribution is slight normal."
   ]
  },
  {
   "cell_type": "code",
   "execution_count": 150,
   "id": "660cee1f-85f0-40f0-b3c3-98eda38b8c0f",
   "metadata": {},
   "outputs": [
    {
     "data": {
      "text/plain": [
       "Index(['Pressure', 'Temperature', 'Vibration', 'Airflow_Rate',\n",
       "       'Chemical_Concentration', 'Maintenance_Frequency', 'Operational_Hours',\n",
       "       'Environmental_Temperature', 'Environmental_Humidity',\n",
       "       'Worker_Presence', 'Safety_Protocol_Compliance', 'Incident_History',\n",
       "       'Incident_Risk'],\n",
       "      dtype='object')"
      ]
     },
     "execution_count": 150,
     "metadata": {},
     "output_type": "execute_result"
    }
   ],
   "source": [
    "# check the column\n",
    "df_num.columns"
   ]
  },
  {
   "cell_type": "markdown",
   "id": "bade9ff5-08fd-4997-9d6a-8d2938893ce0",
   "metadata": {},
   "source": [
    "#### Operational_Hours"
   ]
  },
  {
   "cell_type": "code",
   "execution_count": 153,
   "id": "3654ccf3-d38e-4226-b83e-d253559ff794",
   "metadata": {},
   "outputs": [
    {
     "data": {
      "text/plain": [
       "0.07"
      ]
     },
     "execution_count": 153,
     "metadata": {},
     "output_type": "execute_result"
    }
   ],
   "source": [
    "# find the minimal\n",
    "df_num.Operational_Hours.min()\n"
   ]
  },
  {
   "cell_type": "code",
   "execution_count": 155,
   "id": "ce42d598-cc7c-433a-98ed-fe2a347b7b2f",
   "metadata": {},
   "outputs": [
    {
     "data": {
      "text/plain": [
       "199.98"
      ]
     },
     "execution_count": 155,
     "metadata": {},
     "output_type": "execute_result"
    }
   ],
   "source": [
    "# find the maximum\n",
    "df_num.Operational_Hours.max()"
   ]
  },
  {
   "cell_type": "code",
   "execution_count": 157,
   "id": "827f3b61-0dad-4135-8320-7fa7b9daa455",
   "metadata": {},
   "outputs": [
    {
     "data": {
      "text/plain": [
       "99.77186375000001"
      ]
     },
     "execution_count": 157,
     "metadata": {},
     "output_type": "execute_result"
    }
   ],
   "source": [
    "# find the avg\n",
    "df_num.Operational_Hours.mean()"
   ]
  },
  {
   "cell_type": "code",
   "execution_count": 159,
   "id": "5d77e5fd-da31-4084-9e44-2ac4570efbb7",
   "metadata": {},
   "outputs": [
    {
     "data": {
      "image/png": "[encoded data removed]",
      "text/plain": [
       "<Figure size 640x480 with 1 Axes>"
      ]
     },
     "metadata": {},
     "output_type": "display_data"
    }
   ],
   "source": [
    "# cheack the vizulisition\n",
    "df_num.Operational_Hours.plot(kind='kde', color='red')\n",
    "plt.title('Distribution of Operational_Hours')\n",
    "plt.grid()"
   ]
  },
  {
   "cell_type": "markdown",
   "id": "bdd32397-680f-4e33-bf41-33917ca8b234",
   "metadata": {},
   "source": [
    "**interpritation**\n",
    " - min Operational_Hours is 0.07\n",
    " - max Operational_Hours is 199.98\n",
    " - avg Operational_Hours is 99.77186375000001\n",
    " - after looking at the disstribution i conclude that the distribution is slight normal."
   ]
  },
  {
   "cell_type": "code",
   "execution_count": 162,
   "id": "0f28da42-27f3-4748-901a-d1b113f69328",
   "metadata": {},
   "outputs": [
    {
     "data": {
      "text/plain": [
       "Index(['Pressure', 'Temperature', 'Vibration', 'Airflow_Rate',\n",
       "       'Chemical_Concentration', 'Maintenance_Frequency', 'Operational_Hours',\n",
       "       'Environmental_Temperature', 'Environmental_Humidity',\n",
       "       'Worker_Presence', 'Safety_Protocol_Compliance', 'Incident_History',\n",
       "       'Incident_Risk'],\n",
       "      dtype='object')"
      ]
     },
     "execution_count": 162,
     "metadata": {},
     "output_type": "execute_result"
    }
   ],
   "source": [
    "# check the column\n",
    "df_num.columns"
   ]
  },
  {
   "cell_type": "markdown",
   "id": "cef1b259-39c8-4375-a377-a0e4bbabec3a",
   "metadata": {},
   "source": [
    "#### Environmental_Temperature"
   ]
  },
  {
   "cell_type": "code",
   "execution_count": 165,
   "id": "bbfd54f9-78f2-427e-bd64-45661f1ef03b",
   "metadata": {},
   "outputs": [
    {
     "data": {
      "text/plain": [
       "18.729999999999997"
      ]
     },
     "execution_count": 165,
     "metadata": {},
     "output_type": "execute_result"
    }
   ],
   "source": [
    "# find the minimal\n",
    "df_num.Environmental_Temperature.min()\n"
   ]
  },
  {
   "cell_type": "code",
   "execution_count": 167,
   "id": "1d490c1f-c639-4faf-baa7-101d061892e7",
   "metadata": {},
   "outputs": [
    {
     "data": {
      "text/plain": [
       "35.21"
      ]
     },
     "execution_count": 167,
     "metadata": {},
     "output_type": "execute_result"
    }
   ],
   "source": [
    "# find the maximum\n",
    "df_num.Environmental_Temperature.max()"
   ]
  },
  {
   "cell_type": "code",
   "execution_count": 169,
   "id": "9dd09954-99e5-4bc4-8ed4-88945edaefa8",
   "metadata": {},
   "outputs": [
    {
     "data": {
      "text/plain": [
       "27.013486250000003"
      ]
     },
     "execution_count": 169,
     "metadata": {},
     "output_type": "execute_result"
    }
   ],
   "source": [
    "# find the avg\n",
    "df_num.Environmental_Temperature.mean()"
   ]
  },
  {
   "cell_type": "code",
   "execution_count": 177,
   "id": "f436671c-f08b-4410-a451-013197f90ed5",
   "metadata": {},
   "outputs": [
    {
     "data": {
      "image/png": "[encoded data removed]",
      "text/plain": [
       "<Figure size 640x480 with 1 Axes>"
      ]
     },
     "metadata": {},
     "output_type": "display_data"
    }
   ],
   "source": [
    "# cheack the vizulisition\n",
    "df_num.Environmental_Temperature.plot(kind='kde', color='red')\n",
    "plt.title('Distribution of Environmental_Temperature')\n",
    "plt.grid()"
   ]
  },
  {
   "cell_type": "markdown",
   "id": "9acb9bc2-a991-49da-a7fb-3d0173c44d8d",
   "metadata": {},
   "source": [
    "**interpritation**\n",
    " - min Environmental_Temperature is 18.729999999999997\n",
    " - max Environmental_Temperature is 35.21\n",
    " - avg Environmental_Temperature is 27.013486250000003\n",
    " - after looking at the disstribution i conclude that the distribution is normal."
   ]
  },
  {
   "cell_type": "code",
   "execution_count": 179,
   "id": "e4740f22-d15c-436a-b8eb-ee7aea7afc1e",
   "metadata": {},
   "outputs": [
    {
     "data": {
      "text/plain": [
       "Index(['Pressure', 'Temperature', 'Vibration', 'Airflow_Rate',\n",
       "       'Chemical_Concentration', 'Maintenance_Frequency', 'Operational_Hours',\n",
       "       'Environmental_Temperature', 'Environmental_Humidity',\n",
       "       'Worker_Presence', 'Safety_Protocol_Compliance', 'Incident_History',\n",
       "       'Incident_Risk'],\n",
       "      dtype='object')"
      ]
     },
     "execution_count": 179,
     "metadata": {},
     "output_type": "execute_result"
    }
   ],
   "source": [
    "# check the column\n",
    "df_num.columns"
   ]
  },
  {
   "cell_type": "markdown",
   "id": "ec138079-223f-455a-b92f-93b7118be704",
   "metadata": {},
   "source": [
    "#### Environmental_Humidity"
   ]
  },
  {
   "cell_type": "code",
   "execution_count": 182,
   "id": "62e5af9f-dba1-4516-90c4-b6af8e08b273",
   "metadata": {},
   "outputs": [
    {
     "data": {
      "text/plain": [
       "30.02"
      ]
     },
     "execution_count": 182,
     "metadata": {},
     "output_type": "execute_result"
    }
   ],
   "source": [
    "# find the minimal\n",
    "df_num.Environmental_Humidity.min()\n"
   ]
  },
  {
   "cell_type": "code",
   "execution_count": 184,
   "id": "392fc76b-2171-423a-9782-cba2538c9a92",
   "metadata": {},
   "outputs": [
    {
     "data": {
      "text/plain": [
       "89.99"
      ]
     },
     "execution_count": 184,
     "metadata": {},
     "output_type": "execute_result"
    }
   ],
   "source": [
    "# find the maximum\n",
    "df_num.Environmental_Humidity.max()"
   ]
  },
  {
   "cell_type": "code",
   "execution_count": 186,
   "id": "10a6b776-73a1-4e2b-8b16-43a4cf369f25",
   "metadata": {},
   "outputs": [
    {
     "data": {
      "text/plain": [
       "59.90807125"
      ]
     },
     "execution_count": 186,
     "metadata": {},
     "output_type": "execute_result"
    }
   ],
   "source": [
    "# find the avg\n",
    "df_num.Environmental_Humidity.mean()"
   ]
  },
  {
   "cell_type": "code",
   "execution_count": 94,
   "id": "972f9a56-c016-4c75-9395-94db356216b2",
   "metadata": {},
   "outputs": [
    {
     "data": {
      "image/png": "[encoded data removed]",
      "text/plain": [
       "<Figure size 640x480 with 1 Axes>"
      ]
     },
     "metadata": {},
     "output_type": "display_data"
    }
   ],
   "source": [
    "# cheack the vizulisition\n",
    "df_num.Environmental_Humidity.plot(kind='kde', color='red')\n",
    "plt.title('Distribution of Environmental_Humidity')\n",
    "plt.grid()"
   ]
  },
  {
   "cell_type": "markdown",
   "id": "67abcf5c-9e2a-40f7-be65-b18517ecb03a",
   "metadata": {},
   "source": [
    "**interpritation**\n",
    " - min Environmental_Humidity is 30.02\n",
    " - max Environmental_Humidity is 89.99\n",
    " - avg Environmental_Humidity is 59.90807125\r\n",
    " - after looking at the disstribution i conclude that the distribution is slight normal."
   ]
  },
  {
   "cell_type": "markdown",
   "id": "50bed6f8-c3ae-457b-aa9c-6a463058b635",
   "metadata": {},
   "source": [
    "#### Univariate analysis on categorical variable"
   ]
  },
  {
   "cell_type": "code",
   "execution_count": 193,
   "id": "d25f5510-678d-4fab-b493-46d7cd586d4c",
   "metadata": {},
   "outputs": [
    {
     "data": {
      "text/plain": [
       "Index(['Timestamp', 'Equipment_ID', 'Maintenance_Last_Date'], dtype='object')"
      ]
     },
     "execution_count": 193,
     "metadata": {},
     "output_type": "execute_result"
    }
   ],
   "source": [
    "# check the column in categorucal data frame\n",
    "df_cat.columns"
   ]
  },
  {
   "cell_type": "markdown",
   "id": "ef954208-7de2-47df-8bcc-82febb367f04",
   "metadata": {},
   "source": [
    "##### Timestamp"
   ]
  },
  {
   "cell_type": "code",
   "execution_count": 195,
   "id": "8c804b44-dfd4-412d-83c9-d6a50c39d372",
   "metadata": {},
   "outputs": [
    {
     "data": {
      "text/plain": [
       "Timestamp\n",
       "2025-06-01 00:00:00    1\n",
       "2025-07-26 12:15:00    1\n",
       "2025-07-26 15:30:00    1\n",
       "2025-07-26 15:15:00    1\n",
       "2025-07-26 15:00:00    1\n",
       "                      ..\n",
       "2025-06-28 17:15:00    1\n",
       "2025-06-28 17:00:00    1\n",
       "2025-06-28 16:45:00    1\n",
       "2025-06-28 16:30:00    1\n",
       "2025-08-23 07:45:00    1\n",
       "Name: count, Length: 8000, dtype: int64"
      ]
     },
     "execution_count": 195,
     "metadata": {},
     "output_type": "execute_result"
    }
   ],
   "source": [
    "# check the count of each categories present in column\n",
    "df_cat.Timestamp.value_counts()\n"
   ]
  },
  {
   "cell_type": "code",
   "execution_count": 221,
   "id": "e378524a-e652-49e4-8089-544643338bc4",
   "metadata": {},
   "outputs": [
    {
     "data": {
      "image/png": "[encoded data removed]",
      "text/plain": [
       "<Figure size 500x300 with 1 Axes>"
      ]
     },
     "metadata": {},
     "output_type": "display_data"
    }
   ],
   "source": [
    "# create a visuallization \n",
    "plt.figure(figsize=(5,3))\n",
    "df_cat.Timestamp.value_counts().plot(kind='bar',color='yellow')\n",
    "plt.grid()"
   ]
  },
  {
   "cell_type": "markdown",
   "id": "066bd083-1cca-4ba8-af2b-c11a3b8b603d",
   "metadata": {},
   "source": [
    "**interpritation**\n",
    " - The data is balenced\n",
    " "
   ]
  },
  {
   "cell_type": "code",
   "execution_count": 206,
   "id": "63306236-6bc2-4c28-aadc-fc265857625c",
   "metadata": {},
   "outputs": [
    {
     "data": {
      "text/plain": [
       "Index(['Timestamp', 'Equipment_ID', 'Maintenance_Last_Date'], dtype='object')"
      ]
     },
     "execution_count": 206,
     "metadata": {},
     "output_type": "execute_result"
    }
   ],
   "source": [
    "# check the column in categorucal data frame\n",
    "df_cat.columns"
   ]
  },
  {
   "cell_type": "markdown",
   "id": "c1b42402-5e17-4135-bbff-a64d7df1df9b",
   "metadata": {},
   "source": [
    "##### Equipment_ID"
   ]
  },
  {
   "cell_type": "code",
   "execution_count": 209,
   "id": "bc08872d-1002-442b-8ac4-deabbfd0181d",
   "metadata": {},
   "outputs": [
    {
     "data": {
      "text/plain": [
       "Equipment_ID\n",
       "AHU_002    2058\n",
       "SD_002     2019\n",
       "SD_001     1990\n",
       "AHU_001    1933\n",
       "Name: count, dtype: int64"
      ]
     },
     "execution_count": 209,
     "metadata": {},
     "output_type": "execute_result"
    }
   ],
   "source": [
    "# check the count of each categories present in column\n",
    "df_cat.Equipment_ID.value_counts()\n"
   ]
  },
  {
   "cell_type": "code",
   "execution_count": 211,
   "id": "972993d3-d10b-4316-9600-3613ce005b96",
   "metadata": {},
   "outputs": [
    {
     "data": {
      "image/png": "[encoded data removed]",
      "text/plain": [
       "<Figure size 640x480 with 1 Axes>"
      ]
     },
     "metadata": {},
     "output_type": "display_data"
    }
   ],
   "source": [
    "# create a visuallization \n",
    "df_cat.Equipment_ID.value_counts().plot(kind='bar',color='yellow')\n",
    "plt.grid()"
   ]
  },
  {
   "cell_type": "markdown",
   "id": "448c71bb-86da-46da-85a7-84cacd91d0f9",
   "metadata": {},
   "source": [
    "**interpritation**\n",
    " - The data is balenced\n",
    " "
   ]
  },
  {
   "cell_type": "code",
   "execution_count": 214,
   "id": "a8f81528-ca75-48d9-905e-4f41529e13bc",
   "metadata": {},
   "outputs": [
    {
     "data": {
      "text/plain": [
       "Index(['Timestamp', 'Equipment_ID', 'Maintenance_Last_Date'], dtype='object')"
      ]
     },
     "execution_count": 214,
     "metadata": {},
     "output_type": "execute_result"
    }
   ],
   "source": [
    "# check the column in categorucal data frame\n",
    "df_cat.columns"
   ]
  },
  {
   "cell_type": "markdown",
   "id": "a962d437-a835-477a-8285-6907d471601c",
   "metadata": {},
   "source": [
    "##### Maintenance_Last_Date"
   ]
  },
  {
   "cell_type": "code",
   "execution_count": 217,
   "id": "3e3daa1a-0b82-4209-832c-fb82a8896637",
   "metadata": {
    "scrolled": true
   },
   "outputs": [
    {
     "data": {
      "text/plain": [
       "Maintenance_Last_Date\n",
       "2025-05-25    111\n",
       "2025-04-22    108\n",
       "2025-04-02    108\n",
       "2025-04-16    106\n",
       "2025-03-08    105\n",
       "             ... \n",
       "2025-05-29     71\n",
       "2025-03-26     71\n",
       "2025-03-20     71\n",
       "2025-04-07     71\n",
       "2025-05-27     67\n",
       "Name: count, Length: 91, dtype: int64"
      ]
     },
     "execution_count": 217,
     "metadata": {},
     "output_type": "execute_result"
    }
   ],
   "source": [
    "# check the count of each categories present in column\n",
    "df_cat.Maintenance_Last_Date.value_counts()\n"
   ]
  },
  {
   "cell_type": "code",
   "execution_count": 219,
   "id": "a1aae020-7499-454f-b308-f97635ca196a",
   "metadata": {
    "scrolled": true
   },
   "outputs": [
    {
     "data": {
      "text/plain": [
       "<Axes: xlabel='Maintenance_Last_Date'>"
      ]
     },
     "execution_count": 219,
     "metadata": {},
     "output_type": "execute_result"
    },
    {
     "data": {
      "image/png": "[encoded data removed]",
      "text/plain": [
       "<Figure size 500x300 with 1 Axes>"
      ]
     },
     "metadata": {},
     "output_type": "display_data"
    }
   ],
   "source": [
    "# create a visuallization \n",
    "plt.figure(figsize=(5,3))\n",
    "df_cat.Maintenance_Last_Date.value_counts().plot(kind='bar',color='yellow')\n"
   ]
  },
  {
   "cell_type": "markdown",
   "id": "c906482a-d942-4482-8fdb-1320c380aa9f",
   "metadata": {},
   "source": [
    "**interpritation**\n",
    " - The data is balenced\n",
    " "
   ]
  },
  {
   "cell_type": "code",
   "execution_count": 222,
   "id": "3e91d6a3-bd18-4871-9b64-e0b3d9e95710",
   "metadata": {},
   "outputs": [
    {
     "data": {
      "text/html": [
       "<div>\n",
       "<style scoped>\n",
       "    .dataframe tbody tr th:only-of-type {\n",
       "        vertical-align: middle;\n",
       "    }\n",
       "\n",
       "    .dataframe tbody tr th {\n",
       "        vertical-align: top;\n",
       "    }\n",
       "\n",
       "    .dataframe thead th {\n",
       "        text-align: right;\n",
       "    }\n",
       "</style>\n",
       "<table border=\"1\" class=\"dataframe\">\n",
       "  <thead>\n",
       "    <tr style=\"text-align: right;\">\n",
       "      <th></th>\n",
       "      <th>Pressure</th>\n",
       "      <th>Temperature</th>\n",
       "      <th>Vibration</th>\n",
       "      <th>Airflow_Rate</th>\n",
       "      <th>Chemical_Concentration</th>\n",
       "      <th>Maintenance_Frequency</th>\n",
       "      <th>Operational_Hours</th>\n",
       "      <th>Environmental_Temperature</th>\n",
       "      <th>Environmental_Humidity</th>\n",
       "      <th>Worker_Presence</th>\n",
       "      <th>Safety_Protocol_Compliance</th>\n",
       "      <th>Incident_History</th>\n",
       "      <th>Incident_Risk</th>\n",
       "    </tr>\n",
       "  </thead>\n",
       "  <tbody>\n",
       "    <tr>\n",
       "      <th>Pressure</th>\n",
       "      <td>1.000000</td>\n",
       "      <td>0.024389</td>\n",
       "      <td>0.012140</td>\n",
       "      <td>-0.006433</td>\n",
       "      <td>0.005433</td>\n",
       "      <td>-0.002363</td>\n",
       "      <td>-0.014721</td>\n",
       "      <td>-0.003626</td>\n",
       "      <td>0.024177</td>\n",
       "      <td>0.000140</td>\n",
       "      <td>0.000487</td>\n",
       "      <td>0.013308</td>\n",
       "      <td>0.003896</td>\n",
       "    </tr>\n",
       "    <tr>\n",
       "      <th>Temperature</th>\n",
       "      <td>0.024389</td>\n",
       "      <td>1.000000</td>\n",
       "      <td>0.018398</td>\n",
       "      <td>0.000518</td>\n",
       "      <td>-0.000164</td>\n",
       "      <td>0.001408</td>\n",
       "      <td>-0.004139</td>\n",
       "      <td>0.016039</td>\n",
       "      <td>0.007899</td>\n",
       "      <td>-0.002644</td>\n",
       "      <td>-0.008882</td>\n",
       "      <td>-0.005400</td>\n",
       "      <td>0.010686</td>\n",
       "    </tr>\n",
       "    <tr>\n",
       "      <th>Vibration</th>\n",
       "      <td>0.012140</td>\n",
       "      <td>0.018398</td>\n",
       "      <td>1.000000</td>\n",
       "      <td>0.010130</td>\n",
       "      <td>-0.002673</td>\n",
       "      <td>-0.011410</td>\n",
       "      <td>-0.003061</td>\n",
       "      <td>0.004323</td>\n",
       "      <td>0.002235</td>\n",
       "      <td>-0.004393</td>\n",
       "      <td>0.013180</td>\n",
       "      <td>-0.004307</td>\n",
       "      <td>0.017677</td>\n",
       "    </tr>\n",
       "    <tr>\n",
       "      <th>Airflow_Rate</th>\n",
       "      <td>-0.006433</td>\n",
       "      <td>0.000518</td>\n",
       "      <td>0.010130</td>\n",
       "      <td>1.000000</td>\n",
       "      <td>-0.017121</td>\n",
       "      <td>0.006580</td>\n",
       "      <td>0.022161</td>\n",
       "      <td>-0.002442</td>\n",
       "      <td>-0.002654</td>\n",
       "      <td>-0.005648</td>\n",
       "      <td>-0.015069</td>\n",
       "      <td>-0.014264</td>\n",
       "      <td>-0.015180</td>\n",
       "    </tr>\n",
       "    <tr>\n",
       "      <th>Chemical_Concentration</th>\n",
       "      <td>0.005433</td>\n",
       "      <td>-0.000164</td>\n",
       "      <td>-0.002673</td>\n",
       "      <td>-0.017121</td>\n",
       "      <td>1.000000</td>\n",
       "      <td>-0.001303</td>\n",
       "      <td>-0.007060</td>\n",
       "      <td>-0.005833</td>\n",
       "      <td>0.003800</td>\n",
       "      <td>-0.000741</td>\n",
       "      <td>0.003568</td>\n",
       "      <td>-0.017208</td>\n",
       "      <td>-0.011526</td>\n",
       "    </tr>\n",
       "    <tr>\n",
       "      <th>Maintenance_Frequency</th>\n",
       "      <td>-0.002363</td>\n",
       "      <td>0.001408</td>\n",
       "      <td>-0.011410</td>\n",
       "      <td>0.006580</td>\n",
       "      <td>-0.001303</td>\n",
       "      <td>1.000000</td>\n",
       "      <td>0.019039</td>\n",
       "      <td>0.017607</td>\n",
       "      <td>-0.012458</td>\n",
       "      <td>-0.015297</td>\n",
       "      <td>0.004375</td>\n",
       "      <td>-0.006849</td>\n",
       "      <td>-0.007950</td>\n",
       "    </tr>\n",
       "    <tr>\n",
       "      <th>Operational_Hours</th>\n",
       "      <td>-0.014721</td>\n",
       "      <td>-0.004139</td>\n",
       "      <td>-0.003061</td>\n",
       "      <td>0.022161</td>\n",
       "      <td>-0.007060</td>\n",
       "      <td>0.019039</td>\n",
       "      <td>1.000000</td>\n",
       "      <td>-0.015796</td>\n",
       "      <td>-0.004956</td>\n",
       "      <td>0.000183</td>\n",
       "      <td>-0.005690</td>\n",
       "      <td>-0.003906</td>\n",
       "      <td>-0.008582</td>\n",
       "    </tr>\n",
       "    <tr>\n",
       "      <th>Environmental_Temperature</th>\n",
       "      <td>-0.003626</td>\n",
       "      <td>0.016039</td>\n",
       "      <td>0.004323</td>\n",
       "      <td>-0.002442</td>\n",
       "      <td>-0.005833</td>\n",
       "      <td>0.017607</td>\n",
       "      <td>-0.015796</td>\n",
       "      <td>1.000000</td>\n",
       "      <td>0.019721</td>\n",
       "      <td>-0.010280</td>\n",
       "      <td>-0.008592</td>\n",
       "      <td>-0.006986</td>\n",
       "      <td>-0.017202</td>\n",
       "    </tr>\n",
       "    <tr>\n",
       "      <th>Environmental_Humidity</th>\n",
       "      <td>0.024177</td>\n",
       "      <td>0.007899</td>\n",
       "      <td>0.002235</td>\n",
       "      <td>-0.002654</td>\n",
       "      <td>0.003800</td>\n",
       "      <td>-0.012458</td>\n",
       "      <td>-0.004956</td>\n",
       "      <td>0.019721</td>\n",
       "      <td>1.000000</td>\n",
       "      <td>0.003481</td>\n",
       "      <td>0.002681</td>\n",
       "      <td>-0.011465</td>\n",
       "      <td>0.002607</td>\n",
       "    </tr>\n",
       "    <tr>\n",
       "      <th>Worker_Presence</th>\n",
       "      <td>0.000140</td>\n",
       "      <td>-0.002644</td>\n",
       "      <td>-0.004393</td>\n",
       "      <td>-0.005648</td>\n",
       "      <td>-0.000741</td>\n",
       "      <td>-0.015297</td>\n",
       "      <td>0.000183</td>\n",
       "      <td>-0.010280</td>\n",
       "      <td>0.003481</td>\n",
       "      <td>1.000000</td>\n",
       "      <td>-0.000962</td>\n",
       "      <td>0.016879</td>\n",
       "      <td>-0.010072</td>\n",
       "    </tr>\n",
       "    <tr>\n",
       "      <th>Safety_Protocol_Compliance</th>\n",
       "      <td>0.000487</td>\n",
       "      <td>-0.008882</td>\n",
       "      <td>0.013180</td>\n",
       "      <td>-0.015069</td>\n",
       "      <td>0.003568</td>\n",
       "      <td>0.004375</td>\n",
       "      <td>-0.005690</td>\n",
       "      <td>-0.008592</td>\n",
       "      <td>0.002681</td>\n",
       "      <td>-0.000962</td>\n",
       "      <td>1.000000</td>\n",
       "      <td>0.002648</td>\n",
       "      <td>-0.028453</td>\n",
       "    </tr>\n",
       "    <tr>\n",
       "      <th>Incident_History</th>\n",
       "      <td>0.013308</td>\n",
       "      <td>-0.005400</td>\n",
       "      <td>-0.004307</td>\n",
       "      <td>-0.014264</td>\n",
       "      <td>-0.017208</td>\n",
       "      <td>-0.006849</td>\n",
       "      <td>-0.003906</td>\n",
       "      <td>-0.006986</td>\n",
       "      <td>-0.011465</td>\n",
       "      <td>0.016879</td>\n",
       "      <td>0.002648</td>\n",
       "      <td>1.000000</td>\n",
       "      <td>0.428429</td>\n",
       "    </tr>\n",
       "    <tr>\n",
       "      <th>Incident_Risk</th>\n",
       "      <td>0.003896</td>\n",
       "      <td>0.010686</td>\n",
       "      <td>0.017677</td>\n",
       "      <td>-0.015180</td>\n",
       "      <td>-0.011526</td>\n",
       "      <td>-0.007950</td>\n",
       "      <td>-0.008582</td>\n",
       "      <td>-0.017202</td>\n",
       "      <td>0.002607</td>\n",
       "      <td>-0.010072</td>\n",
       "      <td>-0.028453</td>\n",
       "      <td>0.428429</td>\n",
       "      <td>1.000000</td>\n",
       "    </tr>\n",
       "  </tbody>\n",
       "</table>\n",
       "</div>"
      ],
      "text/plain": [
       "                            Pressure  Temperature  Vibration  Airflow_Rate  \\\n",
       "Pressure                    1.000000     0.024389   0.012140     -0.006433   \n",
       "Temperature                 0.024389     1.000000   0.018398      0.000518   \n",
       "Vibration                   0.012140     0.018398   1.000000      0.010130   \n",
       "Airflow_Rate               -0.006433     0.000518   0.010130      1.000000   \n",
       "Chemical_Concentration      0.005433    -0.000164  -0.002673     -0.017121   \n",
       "Maintenance_Frequency      -0.002363     0.001408  -0.011410      0.006580   \n",
       "Operational_Hours          -0.014721    -0.004139  -0.003061      0.022161   \n",
       "Environmental_Temperature  -0.003626     0.016039   0.004323     -0.002442   \n",
       "Environmental_Humidity      0.024177     0.007899   0.002235     -0.002654   \n",
       "Worker_Presence             0.000140    -0.002644  -0.004393     -0.005648   \n",
       "Safety_Protocol_Compliance  0.000487    -0.008882   0.013180     -0.015069   \n",
       "Incident_History            0.013308    -0.005400  -0.004307     -0.014264   \n",
       "Incident_Risk               0.003896     0.010686   0.017677     -0.015180   \n",
       "\n",
       "                            Chemical_Concentration  Maintenance_Frequency  \\\n",
       "Pressure                                  0.005433              -0.002363   \n",
       "Temperature                              -0.000164               0.001408   \n",
       "Vibration                                -0.002673              -0.011410   \n",
       "Airflow_Rate                             -0.017121               0.006580   \n",
       "Chemical_Concentration                    1.000000              -0.001303   \n",
       "Maintenance_Frequency                    -0.001303               1.000000   \n",
       "Operational_Hours                        -0.007060               0.019039   \n",
       "Environmental_Temperature                -0.005833               0.017607   \n",
       "Environmental_Humidity                    0.003800              -0.012458   \n",
       "Worker_Presence                          -0.000741              -0.015297   \n",
       "Safety_Protocol_Compliance                0.003568               0.004375   \n",
       "Incident_History                         -0.017208              -0.006849   \n",
       "Incident_Risk                            -0.011526              -0.007950   \n",
       "\n",
       "                            Operational_Hours  Environmental_Temperature  \\\n",
       "Pressure                            -0.014721                  -0.003626   \n",
       "Temperature                         -0.004139                   0.016039   \n",
       "Vibration                           -0.003061                   0.004323   \n",
       "Airflow_Rate                         0.022161                  -0.002442   \n",
       "Chemical_Concentration              -0.007060                  -0.005833   \n",
       "Maintenance_Frequency                0.019039                   0.017607   \n",
       "Operational_Hours                    1.000000                  -0.015796   \n",
       "Environmental_Temperature           -0.015796                   1.000000   \n",
       "Environmental_Humidity              -0.004956                   0.019721   \n",
       "Worker_Presence                      0.000183                  -0.010280   \n",
       "Safety_Protocol_Compliance          -0.005690                  -0.008592   \n",
       "Incident_History                    -0.003906                  -0.006986   \n",
       "Incident_Risk                       -0.008582                  -0.017202   \n",
       "\n",
       "                            Environmental_Humidity  Worker_Presence  \\\n",
       "Pressure                                  0.024177         0.000140   \n",
       "Temperature                               0.007899        -0.002644   \n",
       "Vibration                                 0.002235        -0.004393   \n",
       "Airflow_Rate                             -0.002654        -0.005648   \n",
       "Chemical_Concentration                    0.003800        -0.000741   \n",
       "Maintenance_Frequency                    -0.012458        -0.015297   \n",
       "Operational_Hours                        -0.004956         0.000183   \n",
       "Environmental_Temperature                 0.019721        -0.010280   \n",
       "Environmental_Humidity                    1.000000         0.003481   \n",
       "Worker_Presence                           0.003481         1.000000   \n",
       "Safety_Protocol_Compliance                0.002681        -0.000962   \n",
       "Incident_History                         -0.011465         0.016879   \n",
       "Incident_Risk                             0.002607        -0.010072   \n",
       "\n",
       "                            Safety_Protocol_Compliance  Incident_History  \\\n",
       "Pressure                                      0.000487          0.013308   \n",
       "Temperature                                  -0.008882         -0.005400   \n",
       "Vibration                                     0.013180         -0.004307   \n",
       "Airflow_Rate                                 -0.015069         -0.014264   \n",
       "Chemical_Concentration                        0.003568         -0.017208   \n",
       "Maintenance_Frequency                         0.004375         -0.006849   \n",
       "Operational_Hours                            -0.005690         -0.003906   \n",
       "Environmental_Temperature                    -0.008592         -0.006986   \n",
       "Environmental_Humidity                        0.002681         -0.011465   \n",
       "Worker_Presence                              -0.000962          0.016879   \n",
       "Safety_Protocol_Compliance                    1.000000          0.002648   \n",
       "Incident_History                              0.002648          1.000000   \n",
       "Incident_Risk                                -0.028453          0.428429   \n",
       "\n",
       "                            Incident_Risk  \n",
       "Pressure                         0.003896  \n",
       "Temperature                      0.010686  \n",
       "Vibration                        0.017677  \n",
       "Airflow_Rate                    -0.015180  \n",
       "Chemical_Concentration          -0.011526  \n",
       "Maintenance_Frequency           -0.007950  \n",
       "Operational_Hours               -0.008582  \n",
       "Environmental_Temperature       -0.017202  \n",
       "Environmental_Humidity           0.002607  \n",
       "Worker_Presence                 -0.010072  \n",
       "Safety_Protocol_Compliance      -0.028453  \n",
       "Incident_History                 0.428429  \n",
       "Incident_Risk                    1.000000  "
      ]
     },
     "execution_count": 222,
     "metadata": {},
     "output_type": "execute_result"
    }
   ],
   "source": [
    "# for finding the best pairs we have to conclude corelation matrix\n",
    "df_num.corr()"
   ]
  },
  {
   "cell_type": "code",
   "execution_count": 223,
   "id": "90954c6f-d9d7-4cd2-9ad5-e6017fabde08",
   "metadata": {},
   "outputs": [
    {
     "data": {
      "text/plain": [
       "<Axes: >"
      ]
     },
     "execution_count": 223,
     "metadata": {},
     "output_type": "execute_result"
    },
    {
     "data": {
      "image/png": "[encoded data removed]",
      "text/plain": [
       "<Figure size 640x480 with 2 Axes>"
      ]
     },
     "metadata": {},
     "output_type": "display_data"
    }
   ],
   "source": [
    "# visulise the co reation matrix\n",
    "sns.heatmap(df_num.corr())"
   ]
  },
  {
   "cell_type": "markdown",
   "id": "41c366f0-387f-4abd-823a-6c3273aa60e3",
   "metadata": {},
   "source": [
    "**interpretation**\n",
    " - after lokking at a data and corelation matrix.i concliude that there is no corealation.\n",
    " - this is representing good for machine learning bcz it avoides the problem of multi-colineariry\n",
    " - notes:muticoliearity mens when indepaended variables are co-related with each other and we don't want multico-liearity while perfroming machine learning on any data"
   ]
  },
  {
   "cell_type": "markdown",
   "id": "155e91ee-b714-42e6-8231-12707c99d02d",
   "metadata": {},
   "source": [
    "## make data ready for ML"
   ]
  },
  {
   "cell_type": "code",
   "execution_count": 246,
   "id": "091261fd-1bd1-4f97-b5c3-4a1afcd3df70",
   "metadata": {},
   "outputs": [
    {
     "data": {
      "text/plain": [
       "Index(['Timestamp', 'Equipment_ID', 'Pressure', 'Temperature', 'Vibration',\n",
       "       'Airflow_Rate', 'Chemical_Concentration', 'Maintenance_Last_Date',\n",
       "       'Maintenance_Frequency', 'Operational_Hours',\n",
       "       'Environmental_Temperature', 'Environmental_Humidity',\n",
       "       'Worker_Presence', 'Safety_Protocol_Compliance', 'Incident_History',\n",
       "       'Incident_Risk'],\n",
       "      dtype='object')"
      ]
     },
     "execution_count": 246,
     "metadata": {},
     "output_type": "execute_result"
    }
   ],
   "source": [
    "# separate the dependent and independant variable\n",
    "df_industrial_safety_dataset.columns\n"
   ]
  },
  {
   "cell_type": "code",
   "execution_count": 248,
   "id": "e0a7dd67-2565-4dd6-87bd-b23b3f0cedd7",
   "metadata": {},
   "outputs": [],
   "source": [
    "# here in the data we are going to predict Stock_Price_Impact\n",
    "target = df_industrial_safety_dataset.Incident_Risk"
   ]
  },
  {
   "cell_type": "code",
   "execution_count": 250,
   "id": "90e1f453-efe3-4535-b984-ba79aa637f16",
   "metadata": {},
   "outputs": [
    {
     "data": {
      "text/plain": [
       "Index(['Timestamp', 'Equipment_ID', 'Pressure', 'Temperature', 'Vibration',\n",
       "       'Airflow_Rate', 'Chemical_Concentration', 'Maintenance_Last_Date',\n",
       "       'Maintenance_Frequency', 'Operational_Hours',\n",
       "       'Environmental_Temperature', 'Environmental_Humidity',\n",
       "       'Worker_Presence', 'Safety_Protocol_Compliance', 'Incident_History',\n",
       "       'Incident_Risk'],\n",
       "      dtype='object')"
      ]
     },
     "execution_count": 250,
     "metadata": {},
     "output_type": "execute_result"
    }
   ],
   "source": [
    "# check for columns\n",
    "df_industrial_safety_dataset.columns"
   ]
  },
  {
   "cell_type": "code",
   "execution_count": 252,
   "id": "62936861-80a8-45be-90ba-b80ef81bdfec",
   "metadata": {},
   "outputs": [],
   "source": [
    "# drop the dependent variable from main data frame\n",
    "ind = df_industrial_safety_dataset.drop('Incident_Risk', axis=1)"
   ]
  },
  {
   "cell_type": "code",
   "execution_count": 254,
   "id": "6b263455-b897-4bd5-a9c5-19bf7d0e1c4a",
   "metadata": {},
   "outputs": [
    {
     "data": {
      "text/plain": [
       "Index(['Timestamp', 'Equipment_ID', 'Pressure', 'Temperature', 'Vibration',\n",
       "       'Airflow_Rate', 'Chemical_Concentration', 'Maintenance_Last_Date',\n",
       "       'Maintenance_Frequency', 'Operational_Hours',\n",
       "       'Environmental_Temperature', 'Environmental_Humidity',\n",
       "       'Worker_Presence', 'Safety_Protocol_Compliance', 'Incident_History'],\n",
       "      dtype='object')"
      ]
     },
     "execution_count": 254,
     "metadata": {},
     "output_type": "execute_result"
    }
   ],
   "source": [
    "# check wether that column dleted or not\n",
    "ind.columns"
   ]
  },
  {
   "cell_type": "code",
   "execution_count": 258,
   "id": "4bd5f823-10b2-4c3c-89b9-eb93306f557e",
   "metadata": {},
   "outputs": [],
   "source": [
    "# Sale_Date is a date type column and we never keep date type column in Ml proccess\n",
    "ind = df_industrial_safety_dataset.drop('Timestamp', axis=1)\n",
    "ind = df_industrial_safety_dataset.drop('Equipment_ID', axis=1)\n",
    "ind = df_industrial_safety_dataset.drop('Maintenance_Last_Date', axis=1)"
   ]
  },
  {
   "cell_type": "code",
   "execution_count": 260,
   "id": "8b2c03f9-4d2b-4534-adba-d19de806a051",
   "metadata": {},
   "outputs": [
    {
     "data": {
      "text/plain": [
       "Index(['Timestamp', 'Equipment_ID', 'Pressure', 'Temperature', 'Vibration',\n",
       "       'Airflow_Rate', 'Chemical_Concentration', 'Maintenance_Frequency',\n",
       "       'Operational_Hours', 'Environmental_Temperature',\n",
       "       'Environmental_Humidity', 'Worker_Presence',\n",
       "       'Safety_Protocol_Compliance', 'Incident_History', 'Incident_Risk'],\n",
       "      dtype='object')"
      ]
     },
     "execution_count": 260,
     "metadata": {},
     "output_type": "execute_result"
    }
   ],
   "source": [
    "# check wether that column dleted or not\n",
    "ind.columns"
   ]
  },
  {
   "cell_type": "code",
   "execution_count": 262,
   "id": "5c8c2fbe-680a-4b7d-b5be-79478f12670a",
   "metadata": {},
   "outputs": [],
   "source": [
    "# drop the dependent variable from main data frame\n",
    "ind = ind.drop('Incident_Risk', axis=1)"
   ]
  },
  {
   "cell_type": "code",
   "execution_count": 264,
   "id": "e867275d-09be-4021-a281-23089e946237",
   "metadata": {},
   "outputs": [
    {
     "data": {
      "text/plain": [
       "Index(['Timestamp', 'Equipment_ID', 'Pressure', 'Temperature', 'Vibration',\n",
       "       'Airflow_Rate', 'Chemical_Concentration', 'Maintenance_Frequency',\n",
       "       'Operational_Hours', 'Environmental_Temperature',\n",
       "       'Environmental_Humidity', 'Worker_Presence',\n",
       "       'Safety_Protocol_Compliance', 'Incident_History'],\n",
       "      dtype='object')"
      ]
     },
     "execution_count": 264,
     "metadata": {},
     "output_type": "execute_result"
    }
   ],
   "source": [
    "# check wether that column dleted or not\n",
    "ind.columns"
   ]
  },
  {
   "cell_type": "markdown",
   "id": "015a8ff5-fb62-4376-a4d8-b238c962884a",
   "metadata": {},
   "source": [
    "### perform encoding on categorical variable"
   ]
  },
  {
   "cell_type": "code",
   "execution_count": 267,
   "id": "7e041fdc-d661-4ce7-9a6e-5f2c0b1e74be",
   "metadata": {},
   "outputs": [
    {
     "data": {
      "text/html": [
       "<div>\n",
       "<style scoped>\n",
       "    .dataframe tbody tr th:only-of-type {\n",
       "        vertical-align: middle;\n",
       "    }\n",
       "\n",
       "    .dataframe tbody tr th {\n",
       "        vertical-align: top;\n",
       "    }\n",
       "\n",
       "    .dataframe thead th {\n",
       "        text-align: right;\n",
       "    }\n",
       "</style>\n",
       "<table border=\"1\" class=\"dataframe\">\n",
       "  <thead>\n",
       "    <tr style=\"text-align: right;\">\n",
       "      <th></th>\n",
       "      <th>Timestamp</th>\n",
       "      <th>Equipment_ID</th>\n",
       "    </tr>\n",
       "  </thead>\n",
       "  <tbody>\n",
       "    <tr>\n",
       "      <th>0</th>\n",
       "      <td>2025-06-01 00:00:00</td>\n",
       "      <td>SD_002</td>\n",
       "    </tr>\n",
       "    <tr>\n",
       "      <th>1</th>\n",
       "      <td>2025-06-01 00:15:00</td>\n",
       "      <td>AHU_002</td>\n",
       "    </tr>\n",
       "    <tr>\n",
       "      <th>2</th>\n",
       "      <td>2025-06-01 00:30:00</td>\n",
       "      <td>AHU_002</td>\n",
       "    </tr>\n",
       "    <tr>\n",
       "      <th>3</th>\n",
       "      <td>2025-06-01 00:45:00</td>\n",
       "      <td>AHU_001</td>\n",
       "    </tr>\n",
       "    <tr>\n",
       "      <th>4</th>\n",
       "      <td>2025-06-01 01:00:00</td>\n",
       "      <td>AHU_002</td>\n",
       "    </tr>\n",
       "  </tbody>\n",
       "</table>\n",
       "</div>"
      ],
      "text/plain": [
       "             Timestamp Equipment_ID\n",
       "0  2025-06-01 00:00:00       SD_002\n",
       "1  2025-06-01 00:15:00      AHU_002\n",
       "2  2025-06-01 00:30:00      AHU_002\n",
       "3  2025-06-01 00:45:00      AHU_001\n",
       "4  2025-06-01 01:00:00      AHU_002"
      ]
     },
     "execution_count": 267,
     "metadata": {},
     "output_type": "execute_result"
    }
   ],
   "source": [
    "# saperate the categorical column from independent variable\n",
    "df_cat_ind=ind.select_dtypes(include='object')\n",
    "df_cat_ind.head()"
   ]
  },
  {
   "cell_type": "code",
   "execution_count": 269,
   "id": "f569ce77-8afb-4320-95fc-93fd14c9daa5",
   "metadata": {},
   "outputs": [
    {
     "data": {
      "text/plain": [
       "Index(['Timestamp_2025-06-01 00:00:00', 'Timestamp_2025-06-01 00:15:00',\n",
       "       'Timestamp_2025-06-01 00:30:00', 'Timestamp_2025-06-01 00:45:00',\n",
       "       'Timestamp_2025-06-01 01:00:00', 'Timestamp_2025-06-01 01:15:00',\n",
       "       'Timestamp_2025-06-01 01:30:00', 'Timestamp_2025-06-01 01:45:00',\n",
       "       'Timestamp_2025-06-01 02:00:00', 'Timestamp_2025-06-01 02:15:00',\n",
       "       ...\n",
       "       'Timestamp_2025-08-23 06:30:00', 'Timestamp_2025-08-23 06:45:00',\n",
       "       'Timestamp_2025-08-23 07:00:00', 'Timestamp_2025-08-23 07:15:00',\n",
       "       'Timestamp_2025-08-23 07:30:00', 'Timestamp_2025-08-23 07:45:00',\n",
       "       'Equipment_ID_AHU_001', 'Equipment_ID_AHU_002', 'Equipment_ID_SD_001',\n",
       "       'Equipment_ID_SD_002'],\n",
       "      dtype='object', length=8004)"
      ]
     },
     "execution_count": 269,
     "metadata": {},
     "output_type": "execute_result"
    }
   ],
   "source": [
    "# perform encoding\n",
    "encoded = pd.get_dummies(df_cat_ind)\n",
    "encoded.columns"
   ]
  },
  {
   "cell_type": "code",
   "execution_count": 271,
   "id": "7477a8fe-e6be-435c-beb1-6f3b3753ae9b",
   "metadata": {},
   "outputs": [
    {
     "data": {
      "text/html": [
       "<div>\n",
       "<style scoped>\n",
       "    .dataframe tbody tr th:only-of-type {\n",
       "        vertical-align: middle;\n",
       "    }\n",
       "\n",
       "    .dataframe tbody tr th {\n",
       "        vertical-align: top;\n",
       "    }\n",
       "\n",
       "    .dataframe thead th {\n",
       "        text-align: right;\n",
       "    }\n",
       "</style>\n",
       "<table border=\"1\" class=\"dataframe\">\n",
       "  <thead>\n",
       "    <tr style=\"text-align: right;\">\n",
       "      <th></th>\n",
       "      <th>Timestamp_2025-06-01 00:00:00</th>\n",
       "      <th>Timestamp_2025-06-01 00:15:00</th>\n",
       "      <th>Timestamp_2025-06-01 00:30:00</th>\n",
       "      <th>Timestamp_2025-06-01 00:45:00</th>\n",
       "      <th>Timestamp_2025-06-01 01:00:00</th>\n",
       "      <th>Timestamp_2025-06-01 01:15:00</th>\n",
       "      <th>Timestamp_2025-06-01 01:30:00</th>\n",
       "      <th>Timestamp_2025-06-01 01:45:00</th>\n",
       "      <th>Timestamp_2025-06-01 02:00:00</th>\n",
       "      <th>Timestamp_2025-06-01 02:15:00</th>\n",
       "      <th>...</th>\n",
       "      <th>Timestamp_2025-08-23 06:30:00</th>\n",
       "      <th>Timestamp_2025-08-23 06:45:00</th>\n",
       "      <th>Timestamp_2025-08-23 07:00:00</th>\n",
       "      <th>Timestamp_2025-08-23 07:15:00</th>\n",
       "      <th>Timestamp_2025-08-23 07:30:00</th>\n",
       "      <th>Timestamp_2025-08-23 07:45:00</th>\n",
       "      <th>Equipment_ID_AHU_001</th>\n",
       "      <th>Equipment_ID_AHU_002</th>\n",
       "      <th>Equipment_ID_SD_001</th>\n",
       "      <th>Equipment_ID_SD_002</th>\n",
       "    </tr>\n",
       "  </thead>\n",
       "  <tbody>\n",
       "    <tr>\n",
       "      <th>0</th>\n",
       "      <td>True</td>\n",
       "      <td>False</td>\n",
       "      <td>False</td>\n",
       "      <td>False</td>\n",
       "      <td>False</td>\n",
       "      <td>False</td>\n",
       "      <td>False</td>\n",
       "      <td>False</td>\n",
       "      <td>False</td>\n",
       "      <td>False</td>\n",
       "      <td>...</td>\n",
       "      <td>False</td>\n",
       "      <td>False</td>\n",
       "      <td>False</td>\n",
       "      <td>False</td>\n",
       "      <td>False</td>\n",
       "      <td>False</td>\n",
       "      <td>False</td>\n",
       "      <td>False</td>\n",
       "      <td>False</td>\n",
       "      <td>True</td>\n",
       "    </tr>\n",
       "    <tr>\n",
       "      <th>1</th>\n",
       "      <td>False</td>\n",
       "      <td>True</td>\n",
       "      <td>False</td>\n",
       "      <td>False</td>\n",
       "      <td>False</td>\n",
       "      <td>False</td>\n",
       "      <td>False</td>\n",
       "      <td>False</td>\n",
       "      <td>False</td>\n",
       "      <td>False</td>\n",
       "      <td>...</td>\n",
       "      <td>False</td>\n",
       "      <td>False</td>\n",
       "      <td>False</td>\n",
       "      <td>False</td>\n",
       "      <td>False</td>\n",
       "      <td>False</td>\n",
       "      <td>False</td>\n",
       "      <td>True</td>\n",
       "      <td>False</td>\n",
       "      <td>False</td>\n",
       "    </tr>\n",
       "    <tr>\n",
       "      <th>2</th>\n",
       "      <td>False</td>\n",
       "      <td>False</td>\n",
       "      <td>True</td>\n",
       "      <td>False</td>\n",
       "      <td>False</td>\n",
       "      <td>False</td>\n",
       "      <td>False</td>\n",
       "      <td>False</td>\n",
       "      <td>False</td>\n",
       "      <td>False</td>\n",
       "      <td>...</td>\n",
       "      <td>False</td>\n",
       "      <td>False</td>\n",
       "      <td>False</td>\n",
       "      <td>False</td>\n",
       "      <td>False</td>\n",
       "      <td>False</td>\n",
       "      <td>False</td>\n",
       "      <td>True</td>\n",
       "      <td>False</td>\n",
       "      <td>False</td>\n",
       "    </tr>\n",
       "    <tr>\n",
       "      <th>3</th>\n",
       "      <td>False</td>\n",
       "      <td>False</td>\n",
       "      <td>False</td>\n",
       "      <td>True</td>\n",
       "      <td>False</td>\n",
       "      <td>False</td>\n",
       "      <td>False</td>\n",
       "      <td>False</td>\n",
       "      <td>False</td>\n",
       "      <td>False</td>\n",
       "      <td>...</td>\n",
       "      <td>False</td>\n",
       "      <td>False</td>\n",
       "      <td>False</td>\n",
       "      <td>False</td>\n",
       "      <td>False</td>\n",
       "      <td>False</td>\n",
       "      <td>True</td>\n",
       "      <td>False</td>\n",
       "      <td>False</td>\n",
       "      <td>False</td>\n",
       "    </tr>\n",
       "    <tr>\n",
       "      <th>4</th>\n",
       "      <td>False</td>\n",
       "      <td>False</td>\n",
       "      <td>False</td>\n",
       "      <td>False</td>\n",
       "      <td>True</td>\n",
       "      <td>False</td>\n",
       "      <td>False</td>\n",
       "      <td>False</td>\n",
       "      <td>False</td>\n",
       "      <td>False</td>\n",
       "      <td>...</td>\n",
       "      <td>False</td>\n",
       "      <td>False</td>\n",
       "      <td>False</td>\n",
       "      <td>False</td>\n",
       "      <td>False</td>\n",
       "      <td>False</td>\n",
       "      <td>False</td>\n",
       "      <td>True</td>\n",
       "      <td>False</td>\n",
       "      <td>False</td>\n",
       "    </tr>\n",
       "  </tbody>\n",
       "</table>\n",
       "<p>5 rows × 8004 columns</p>\n",
       "</div>"
      ],
      "text/plain": [
       "   Timestamp_2025-06-01 00:00:00  Timestamp_2025-06-01 00:15:00  \\\n",
       "0                           True                          False   \n",
       "1                          False                           True   \n",
       "2                          False                          False   \n",
       "3                          False                          False   \n",
       "4                          False                          False   \n",
       "\n",
       "   Timestamp_2025-06-01 00:30:00  Timestamp_2025-06-01 00:45:00  \\\n",
       "0                          False                          False   \n",
       "1                          False                          False   \n",
       "2                           True                          False   \n",
       "3                          False                           True   \n",
       "4                          False                          False   \n",
       "\n",
       "   Timestamp_2025-06-01 01:00:00  Timestamp_2025-06-01 01:15:00  \\\n",
       "0                          False                          False   \n",
       "1                          False                          False   \n",
       "2                          False                          False   \n",
       "3                          False                          False   \n",
       "4                           True                          False   \n",
       "\n",
       "   Timestamp_2025-06-01 01:30:00  Timestamp_2025-06-01 01:45:00  \\\n",
       "0                          False                          False   \n",
       "1                          False                          False   \n",
       "2                          False                          False   \n",
       "3                          False                          False   \n",
       "4                          False                          False   \n",
       "\n",
       "   Timestamp_2025-06-01 02:00:00  Timestamp_2025-06-01 02:15:00  ...  \\\n",
       "0                          False                          False  ...   \n",
       "1                          False                          False  ...   \n",
       "2                          False                          False  ...   \n",
       "3                          False                          False  ...   \n",
       "4                          False                          False  ...   \n",
       "\n",
       "   Timestamp_2025-08-23 06:30:00  Timestamp_2025-08-23 06:45:00  \\\n",
       "0                          False                          False   \n",
       "1                          False                          False   \n",
       "2                          False                          False   \n",
       "3                          False                          False   \n",
       "4                          False                          False   \n",
       "\n",
       "   Timestamp_2025-08-23 07:00:00  Timestamp_2025-08-23 07:15:00  \\\n",
       "0                          False                          False   \n",
       "1                          False                          False   \n",
       "2                          False                          False   \n",
       "3                          False                          False   \n",
       "4                          False                          False   \n",
       "\n",
       "   Timestamp_2025-08-23 07:30:00  Timestamp_2025-08-23 07:45:00  \\\n",
       "0                          False                          False   \n",
       "1                          False                          False   \n",
       "2                          False                          False   \n",
       "3                          False                          False   \n",
       "4                          False                          False   \n",
       "\n",
       "   Equipment_ID_AHU_001  Equipment_ID_AHU_002  Equipment_ID_SD_001  \\\n",
       "0                 False                 False                False   \n",
       "1                 False                  True                False   \n",
       "2                 False                  True                False   \n",
       "3                  True                 False                False   \n",
       "4                 False                  True                False   \n",
       "\n",
       "   Equipment_ID_SD_002  \n",
       "0                 True  \n",
       "1                False  \n",
       "2                False  \n",
       "3                False  \n",
       "4                False  \n",
       "\n",
       "[5 rows x 8004 columns]"
      ]
     },
     "execution_count": 271,
     "metadata": {},
     "output_type": "execute_result"
    }
   ],
   "source": [
    "# check the data in encoded data frame\n",
    "encoded.head()"
   ]
  },
  {
   "cell_type": "markdown",
   "id": "957e6a67-4866-4338-b500-1ee88cf795bf",
   "metadata": {},
   "source": [
    "### Perform scaling on numerical data"
   ]
  },
  {
   "cell_type": "code",
   "execution_count": 274,
   "id": "4bbfebab-196e-4a8c-8359-ab055c421f9c",
   "metadata": {},
   "outputs": [],
   "source": [
    "# make new data frame for independent numerical variable\n",
    "df_num_ind = ind.select_dtypes(include = 'number')"
   ]
  },
  {
   "cell_type": "code",
   "execution_count": 276,
   "id": "093818b7-9415-4f5a-ab4f-15fc0e26c4ae",
   "metadata": {},
   "outputs": [],
   "source": [
    "# import stander scaler for scaling\n",
    "from sklearn.preprocessing import StandardScaler"
   ]
  },
  {
   "cell_type": "code",
   "execution_count": 278,
   "id": "e7fdfe1d-4932-447c-96ad-2bd0bd27920a",
   "metadata": {},
   "outputs": [],
   "source": [
    "# initiate the standard scaler\n",
    "ss = StandardScaler()"
   ]
  },
  {
   "cell_type": "code",
   "execution_count": 280,
   "id": "cfadae3c-bbb4-488d-9c3f-a65dd6c885fa",
   "metadata": {},
   "outputs": [],
   "source": [
    "# transform the data\n",
    "scalle = ss.fit_transform(df_num_ind)"
   ]
  },
  {
   "cell_type": "code",
   "execution_count": 282,
   "id": "62966167-f9a1-4424-aee5-99f2c940378c",
   "metadata": {},
   "outputs": [
    {
     "data": {
      "text/plain": [
       "array([[ 2.95841922e-01, -1.13009442e+00,  1.89220384e-01, ...,\n",
       "         9.43830725e-01, -3.01890378e+00, -9.92003367e-01],\n",
       "       [ 4.56143691e-01,  1.56410042e+00, -1.26146922e-02, ...,\n",
       "        -8.33141876e-03,  3.31246066e-01,  9.88537421e-01],\n",
       "       [-1.04912498e-01,  4.87402783e-02,  8.83028457e-02, ...,\n",
       "         1.26121811e+00,  3.31246066e-01, -1.73297319e-03],\n",
       "       ...,\n",
       "       [-6.45930965e-01, -1.00605334e-01,  1.89220384e-01, ...,\n",
       "         1.26121811e+00,  3.31246066e-01, -9.92003367e-01],\n",
       "       [ 4.36105969e-01, -2.49368902e-02, -1.32454268e+00, ...,\n",
       "        -8.33141876e-03,  3.31246066e-01,  9.88537421e-01],\n",
       "       [ 4.36105969e-01, -6.16345513e-01, -2.14449768e-01, ...,\n",
       "         9.43830725e-01,  3.31246066e-01,  1.97880781e+00]])"
      ]
     },
     "execution_count": 282,
     "metadata": {},
     "output_type": "execute_result"
    }
   ],
   "source": [
    "# check the normalize data\n",
    "scalle"
   ]
  },
  {
   "cell_type": "code",
   "execution_count": 284,
   "id": "984fb45c-3ac9-452c-b7f1-34e4cb352e6b",
   "metadata": {},
   "outputs": [],
   "source": [
    "# create data frame for scalled numerical data\n",
    "df_scalle = pd.DataFrame(scalle, columns=df_num_ind.columns)"
   ]
  },
  {
   "cell_type": "code",
   "execution_count": 286,
   "id": "cab041ce-a47d-4056-9cb7-081955096b05",
   "metadata": {},
   "outputs": [
    {
     "data": {
      "text/html": [
       "<div>\n",
       "<style scoped>\n",
       "    .dataframe tbody tr th:only-of-type {\n",
       "        vertical-align: middle;\n",
       "    }\n",
       "\n",
       "    .dataframe tbody tr th {\n",
       "        vertical-align: top;\n",
       "    }\n",
       "\n",
       "    .dataframe thead th {\n",
       "        text-align: right;\n",
       "    }\n",
       "</style>\n",
       "<table border=\"1\" class=\"dataframe\">\n",
       "  <thead>\n",
       "    <tr style=\"text-align: right;\">\n",
       "      <th></th>\n",
       "      <th>Pressure</th>\n",
       "      <th>Temperature</th>\n",
       "      <th>Vibration</th>\n",
       "      <th>Airflow_Rate</th>\n",
       "      <th>Chemical_Concentration</th>\n",
       "      <th>Maintenance_Frequency</th>\n",
       "      <th>Operational_Hours</th>\n",
       "      <th>Environmental_Temperature</th>\n",
       "      <th>Environmental_Humidity</th>\n",
       "      <th>Worker_Presence</th>\n",
       "      <th>Safety_Protocol_Compliance</th>\n",
       "      <th>Incident_History</th>\n",
       "    </tr>\n",
       "  </thead>\n",
       "  <tbody>\n",
       "    <tr>\n",
       "      <th>0</th>\n",
       "      <td>0.295842</td>\n",
       "      <td>-1.130094</td>\n",
       "      <td>0.189220</td>\n",
       "      <td>0.367986</td>\n",
       "      <td>0.053444</td>\n",
       "      <td>0.630446</td>\n",
       "      <td>-0.301680</td>\n",
       "      <td>0.269757</td>\n",
       "      <td>1.709835</td>\n",
       "      <td>0.943831</td>\n",
       "      <td>-3.018904</td>\n",
       "      <td>-0.992003</td>\n",
       "    </tr>\n",
       "    <tr>\n",
       "      <th>1</th>\n",
       "      <td>0.456144</td>\n",
       "      <td>1.564100</td>\n",
       "      <td>-0.012615</td>\n",
       "      <td>-0.398356</td>\n",
       "      <td>0.744888</td>\n",
       "      <td>-0.001620</td>\n",
       "      <td>-1.516636</td>\n",
       "      <td>-1.025318</td>\n",
       "      <td>1.449823</td>\n",
       "      <td>-0.008331</td>\n",
       "      <td>0.331246</td>\n",
       "      <td>0.988537</td>\n",
       "    </tr>\n",
       "    <tr>\n",
       "      <th>2</th>\n",
       "      <td>-0.104912</td>\n",
       "      <td>0.048740</td>\n",
       "      <td>0.088303</td>\n",
       "      <td>-0.531633</td>\n",
       "      <td>-0.090814</td>\n",
       "      <td>-0.949718</td>\n",
       "      <td>0.699979</td>\n",
       "      <td>-0.020974</td>\n",
       "      <td>0.305770</td>\n",
       "      <td>1.261218</td>\n",
       "      <td>0.331246</td>\n",
       "      <td>-0.001733</td>\n",
       "    </tr>\n",
       "    <tr>\n",
       "      <th>3</th>\n",
       "      <td>0.015314</td>\n",
       "      <td>1.084203</td>\n",
       "      <td>-1.223625</td>\n",
       "      <td>-0.365037</td>\n",
       "      <td>0.043495</td>\n",
       "      <td>0.630446</td>\n",
       "      <td>-0.881625</td>\n",
       "      <td>-0.612348</td>\n",
       "      <td>1.603519</td>\n",
       "      <td>-0.643106</td>\n",
       "      <td>0.331246</td>\n",
       "      <td>-0.001733</td>\n",
       "    </tr>\n",
       "    <tr>\n",
       "      <th>4</th>\n",
       "      <td>-0.144988</td>\n",
       "      <td>1.040395</td>\n",
       "      <td>-0.214450</td>\n",
       "      <td>-0.031845</td>\n",
       "      <td>1.003557</td>\n",
       "      <td>-1.581783</td>\n",
       "      <td>0.339953</td>\n",
       "      <td>-0.258845</td>\n",
       "      <td>0.219677</td>\n",
       "      <td>0.309056</td>\n",
       "      <td>0.331246</td>\n",
       "      <td>-0.001733</td>\n",
       "    </tr>\n",
       "  </tbody>\n",
       "</table>\n",
       "</div>"
      ],
      "text/plain": [
       "   Pressure  Temperature  Vibration  Airflow_Rate  Chemical_Concentration  \\\n",
       "0  0.295842    -1.130094   0.189220      0.367986                0.053444   \n",
       "1  0.456144     1.564100  -0.012615     -0.398356                0.744888   \n",
       "2 -0.104912     0.048740   0.088303     -0.531633               -0.090814   \n",
       "3  0.015314     1.084203  -1.223625     -0.365037                0.043495   \n",
       "4 -0.144988     1.040395  -0.214450     -0.031845                1.003557   \n",
       "\n",
       "   Maintenance_Frequency  Operational_Hours  Environmental_Temperature  \\\n",
       "0               0.630446          -0.301680                   0.269757   \n",
       "1              -0.001620          -1.516636                  -1.025318   \n",
       "2              -0.949718           0.699979                  -0.020974   \n",
       "3               0.630446          -0.881625                  -0.612348   \n",
       "4              -1.581783           0.339953                  -0.258845   \n",
       "\n",
       "   Environmental_Humidity  Worker_Presence  Safety_Protocol_Compliance  \\\n",
       "0                1.709835         0.943831                   -3.018904   \n",
       "1                1.449823        -0.008331                    0.331246   \n",
       "2                0.305770         1.261218                    0.331246   \n",
       "3                1.603519        -0.643106                    0.331246   \n",
       "4                0.219677         0.309056                    0.331246   \n",
       "\n",
       "   Incident_History  \n",
       "0         -0.992003  \n",
       "1          0.988537  \n",
       "2         -0.001733  \n",
       "3         -0.001733  \n",
       "4         -0.001733  "
      ]
     },
     "execution_count": 286,
     "metadata": {},
     "output_type": "execute_result"
    }
   ],
   "source": [
    "# check the scalled data frame\n",
    "df_scalle.head()"
   ]
  },
  {
   "cell_type": "code",
   "execution_count": 288,
   "id": "6e982850-de30-465d-88c8-0d962ddc8dc7",
   "metadata": {},
   "outputs": [],
   "source": [
    "# concate the encoded and scalled data frame\n",
    "df_main = pd.concat([encoded,df_scalle], axis = 1)"
   ]
  },
  {
   "cell_type": "code",
   "execution_count": 290,
   "id": "a2e8f934-2800-41f7-95ba-6dfd4a850588",
   "metadata": {},
   "outputs": [
    {
     "data": {
      "text/plain": [
       "Timestamp_2025-06-01 00:00:00    0\n",
       "Timestamp_2025-06-01 00:15:00    0\n",
       "Timestamp_2025-06-01 00:30:00    0\n",
       "Timestamp_2025-06-01 00:45:00    0\n",
       "Timestamp_2025-06-01 01:00:00    0\n",
       "                                ..\n",
       "Environmental_Temperature        0\n",
       "Environmental_Humidity           0\n",
       "Worker_Presence                  0\n",
       "Safety_Protocol_Compliance       0\n",
       "Incident_History                 0\n",
       "Length: 8016, dtype: int64"
      ]
     },
     "execution_count": 290,
     "metadata": {},
     "output_type": "execute_result"
    }
   ],
   "source": [
    "# check  wether the concatnation is succesfull or not\n",
    "df_main.isnull().sum()"
   ]
  },
  {
   "cell_type": "markdown",
   "id": "9926798a-119d-4394-95d9-2e640374a566",
   "metadata": {},
   "source": [
    "#### Split the data in traing and testing"
   ]
  },
  {
   "cell_type": "code",
   "execution_count": 293,
   "id": "9f0e617c-6a28-406d-8012-0b69b4c9765f",
   "metadata": {},
   "outputs": [],
   "source": [
    "# import the library for traing and testing\n",
    "from sklearn.model_selection import train_test_split"
   ]
  },
  {
   "cell_type": "code",
   "execution_count": 295,
   "id": "b9d1a88d-c869-480a-af37-8f7457b52622",
   "metadata": {},
   "outputs": [],
   "source": [
    "# separate the data\n",
    "X_train , X_test , y_train, y_test = train_test_split(df_main, target, test_size = 0.3)"
   ]
  },
  {
   "cell_type": "code",
   "execution_count": 297,
   "id": "c8e3e2dd-6e21-46b4-8bf1-db60e708855e",
   "metadata": {},
   "outputs": [
    {
     "data": {
      "text/html": [
       "<div>\n",
       "<style scoped>\n",
       "    .dataframe tbody tr th:only-of-type {\n",
       "        vertical-align: middle;\n",
       "    }\n",
       "\n",
       "    .dataframe tbody tr th {\n",
       "        vertical-align: top;\n",
       "    }\n",
       "\n",
       "    .dataframe thead th {\n",
       "        text-align: right;\n",
       "    }\n",
       "</style>\n",
       "<table border=\"1\" class=\"dataframe\">\n",
       "  <thead>\n",
       "    <tr style=\"text-align: right;\">\n",
       "      <th></th>\n",
       "      <th>Timestamp_2025-06-01 00:00:00</th>\n",
       "      <th>Timestamp_2025-06-01 00:15:00</th>\n",
       "      <th>Timestamp_2025-06-01 00:30:00</th>\n",
       "      <th>Timestamp_2025-06-01 00:45:00</th>\n",
       "      <th>Timestamp_2025-06-01 01:00:00</th>\n",
       "      <th>Timestamp_2025-06-01 01:15:00</th>\n",
       "      <th>Timestamp_2025-06-01 01:30:00</th>\n",
       "      <th>Timestamp_2025-06-01 01:45:00</th>\n",
       "      <th>Timestamp_2025-06-01 02:00:00</th>\n",
       "      <th>Timestamp_2025-06-01 02:15:00</th>\n",
       "      <th>...</th>\n",
       "      <th>Vibration</th>\n",
       "      <th>Airflow_Rate</th>\n",
       "      <th>Chemical_Concentration</th>\n",
       "      <th>Maintenance_Frequency</th>\n",
       "      <th>Operational_Hours</th>\n",
       "      <th>Environmental_Temperature</th>\n",
       "      <th>Environmental_Humidity</th>\n",
       "      <th>Worker_Presence</th>\n",
       "      <th>Safety_Protocol_Compliance</th>\n",
       "      <th>Incident_History</th>\n",
       "    </tr>\n",
       "  </thead>\n",
       "  <tbody>\n",
       "    <tr>\n",
       "      <th>462</th>\n",
       "      <td>False</td>\n",
       "      <td>False</td>\n",
       "      <td>False</td>\n",
       "      <td>False</td>\n",
       "      <td>False</td>\n",
       "      <td>False</td>\n",
       "      <td>False</td>\n",
       "      <td>False</td>\n",
       "      <td>False</td>\n",
       "      <td>False</td>\n",
       "      <td>...</td>\n",
       "      <td>0.592891</td>\n",
       "      <td>-0.598271</td>\n",
       "      <td>1.187611</td>\n",
       "      <td>-1.581783</td>\n",
       "      <td>1.057042</td>\n",
       "      <td>0.197074</td>\n",
       "      <td>0.120873</td>\n",
       "      <td>-0.325719</td>\n",
       "      <td>0.331246</td>\n",
       "      <td>-0.992003</td>\n",
       "    </tr>\n",
       "    <tr>\n",
       "      <th>7222</th>\n",
       "      <td>False</td>\n",
       "      <td>False</td>\n",
       "      <td>False</td>\n",
       "      <td>False</td>\n",
       "      <td>False</td>\n",
       "      <td>False</td>\n",
       "      <td>False</td>\n",
       "      <td>False</td>\n",
       "      <td>False</td>\n",
       "      <td>False</td>\n",
       "      <td>...</td>\n",
       "      <td>-0.214450</td>\n",
       "      <td>-0.764867</td>\n",
       "      <td>1.496025</td>\n",
       "      <td>-0.949718</td>\n",
       "      <td>-1.646984</td>\n",
       "      <td>0.269757</td>\n",
       "      <td>1.561917</td>\n",
       "      <td>0.943831</td>\n",
       "      <td>0.331246</td>\n",
       "      <td>0.988537</td>\n",
       "    </tr>\n",
       "    <tr>\n",
       "      <th>2173</th>\n",
       "      <td>False</td>\n",
       "      <td>False</td>\n",
       "      <td>False</td>\n",
       "      <td>False</td>\n",
       "      <td>False</td>\n",
       "      <td>False</td>\n",
       "      <td>False</td>\n",
       "      <td>False</td>\n",
       "      <td>False</td>\n",
       "      <td>False</td>\n",
       "      <td>...</td>\n",
       "      <td>1.299313</td>\n",
       "      <td>1.967307</td>\n",
       "      <td>0.506116</td>\n",
       "      <td>-1.581783</td>\n",
       "      <td>1.661209</td>\n",
       "      <td>0.428337</td>\n",
       "      <td>1.299016</td>\n",
       "      <td>-0.008331</td>\n",
       "      <td>0.331246</td>\n",
       "      <td>-0.992003</td>\n",
       "    </tr>\n",
       "    <tr>\n",
       "      <th>4096</th>\n",
       "      <td>False</td>\n",
       "      <td>False</td>\n",
       "      <td>False</td>\n",
       "      <td>False</td>\n",
       "      <td>False</td>\n",
       "      <td>False</td>\n",
       "      <td>False</td>\n",
       "      <td>False</td>\n",
       "      <td>False</td>\n",
       "      <td>False</td>\n",
       "      <td>...</td>\n",
       "      <td>0.491973</td>\n",
       "      <td>-0.598271</td>\n",
       "      <td>0.192728</td>\n",
       "      <td>0.946478</td>\n",
       "      <td>0.890796</td>\n",
       "      <td>0.289579</td>\n",
       "      <td>0.954067</td>\n",
       "      <td>0.626443</td>\n",
       "      <td>-3.018904</td>\n",
       "      <td>-0.001733</td>\n",
       "    </tr>\n",
       "    <tr>\n",
       "      <th>4090</th>\n",
       "      <td>False</td>\n",
       "      <td>False</td>\n",
       "      <td>False</td>\n",
       "      <td>False</td>\n",
       "      <td>False</td>\n",
       "      <td>False</td>\n",
       "      <td>False</td>\n",
       "      <td>False</td>\n",
       "      <td>False</td>\n",
       "      <td>False</td>\n",
       "      <td>...</td>\n",
       "      <td>0.491973</td>\n",
       "      <td>0.001474</td>\n",
       "      <td>-1.170262</td>\n",
       "      <td>-1.265750</td>\n",
       "      <td>-1.549397</td>\n",
       "      <td>0.021975</td>\n",
       "      <td>-0.039179</td>\n",
       "      <td>1.261218</td>\n",
       "      <td>0.331246</td>\n",
       "      <td>-0.001733</td>\n",
       "    </tr>\n",
       "  </tbody>\n",
       "</table>\n",
       "<p>5 rows × 8016 columns</p>\n",
       "</div>"
      ],
      "text/plain": [
       "      Timestamp_2025-06-01 00:00:00  Timestamp_2025-06-01 00:15:00  \\\n",
       "462                           False                          False   \n",
       "7222                          False                          False   \n",
       "2173                          False                          False   \n",
       "4096                          False                          False   \n",
       "4090                          False                          False   \n",
       "\n",
       "      Timestamp_2025-06-01 00:30:00  Timestamp_2025-06-01 00:45:00  \\\n",
       "462                           False                          False   \n",
       "7222                          False                          False   \n",
       "2173                          False                          False   \n",
       "4096                          False                          False   \n",
       "4090                          False                          False   \n",
       "\n",
       "      Timestamp_2025-06-01 01:00:00  Timestamp_2025-06-01 01:15:00  \\\n",
       "462                           False                          False   \n",
       "7222                          False                          False   \n",
       "2173                          False                          False   \n",
       "4096                          False                          False   \n",
       "4090                          False                          False   \n",
       "\n",
       "      Timestamp_2025-06-01 01:30:00  Timestamp_2025-06-01 01:45:00  \\\n",
       "462                           False                          False   \n",
       "7222                          False                          False   \n",
       "2173                          False                          False   \n",
       "4096                          False                          False   \n",
       "4090                          False                          False   \n",
       "\n",
       "      Timestamp_2025-06-01 02:00:00  Timestamp_2025-06-01 02:15:00  ...  \\\n",
       "462                           False                          False  ...   \n",
       "7222                          False                          False  ...   \n",
       "2173                          False                          False  ...   \n",
       "4096                          False                          False  ...   \n",
       "4090                          False                          False  ...   \n",
       "\n",
       "      Vibration  Airflow_Rate  Chemical_Concentration  Maintenance_Frequency  \\\n",
       "462    0.592891     -0.598271                1.187611              -1.581783   \n",
       "7222  -0.214450     -0.764867                1.496025              -0.949718   \n",
       "2173   1.299313      1.967307                0.506116              -1.581783   \n",
       "4096   0.491973     -0.598271                0.192728               0.946478   \n",
       "4090   0.491973      0.001474               -1.170262              -1.265750   \n",
       "\n",
       "      Operational_Hours  Environmental_Temperature  Environmental_Humidity  \\\n",
       "462            1.057042                   0.197074                0.120873   \n",
       "7222          -1.646984                   0.269757                1.561917   \n",
       "2173           1.661209                   0.428337                1.299016   \n",
       "4096           0.890796                   0.289579                0.954067   \n",
       "4090          -1.549397                   0.021975               -0.039179   \n",
       "\n",
       "      Worker_Presence  Safety_Protocol_Compliance  Incident_History  \n",
       "462         -0.325719                    0.331246         -0.992003  \n",
       "7222         0.943831                    0.331246          0.988537  \n",
       "2173        -0.008331                    0.331246         -0.992003  \n",
       "4096         0.626443                   -3.018904         -0.001733  \n",
       "4090         1.261218                    0.331246         -0.001733  \n",
       "\n",
       "[5 rows x 8016 columns]"
      ]
     },
     "execution_count": 297,
     "metadata": {},
     "output_type": "execute_result"
    }
   ],
   "source": [
    "# check the data we have in traing dataset\n",
    "X_train.head()"
   ]
  },
  {
   "cell_type": "code",
   "execution_count": 299,
   "id": "5615cfad-3564-40c9-bc70-cec97caf2474",
   "metadata": {},
   "outputs": [
    {
     "data": {
      "text/plain": [
       "462     0\n",
       "7222    0\n",
       "2173    0\n",
       "4096    0\n",
       "4090    0\n",
       "Name: Incident_Risk, dtype: int32"
      ]
     },
     "execution_count": 299,
     "metadata": {},
     "output_type": "execute_result"
    }
   ],
   "source": [
    "y_train.head()"
   ]
  },
  {
   "cell_type": "code",
   "execution_count": 300,
   "id": "ad1980bb-d852-457c-bf08-8d6717e24119",
   "metadata": {},
   "outputs": [
    {
     "data": {
      "text/html": [
       "<div>\n",
       "<style scoped>\n",
       "    .dataframe tbody tr th:only-of-type {\n",
       "        vertical-align: middle;\n",
       "    }\n",
       "\n",
       "    .dataframe tbody tr th {\n",
       "        vertical-align: top;\n",
       "    }\n",
       "\n",
       "    .dataframe thead th {\n",
       "        text-align: right;\n",
       "    }\n",
       "</style>\n",
       "<table border=\"1\" class=\"dataframe\">\n",
       "  <thead>\n",
       "    <tr style=\"text-align: right;\">\n",
       "      <th></th>\n",
       "      <th>Timestamp_2025-06-01 00:00:00</th>\n",
       "      <th>Timestamp_2025-06-01 00:15:00</th>\n",
       "      <th>Timestamp_2025-06-01 00:30:00</th>\n",
       "      <th>Timestamp_2025-06-01 00:45:00</th>\n",
       "      <th>Timestamp_2025-06-01 01:00:00</th>\n",
       "      <th>Timestamp_2025-06-01 01:15:00</th>\n",
       "      <th>Timestamp_2025-06-01 01:30:00</th>\n",
       "      <th>Timestamp_2025-06-01 01:45:00</th>\n",
       "      <th>Timestamp_2025-06-01 02:00:00</th>\n",
       "      <th>Timestamp_2025-06-01 02:15:00</th>\n",
       "      <th>...</th>\n",
       "      <th>Vibration</th>\n",
       "      <th>Airflow_Rate</th>\n",
       "      <th>Chemical_Concentration</th>\n",
       "      <th>Maintenance_Frequency</th>\n",
       "      <th>Operational_Hours</th>\n",
       "      <th>Environmental_Temperature</th>\n",
       "      <th>Environmental_Humidity</th>\n",
       "      <th>Worker_Presence</th>\n",
       "      <th>Safety_Protocol_Compliance</th>\n",
       "      <th>Incident_History</th>\n",
       "    </tr>\n",
       "  </thead>\n",
       "  <tbody>\n",
       "    <tr>\n",
       "      <th>4958</th>\n",
       "      <td>False</td>\n",
       "      <td>False</td>\n",
       "      <td>False</td>\n",
       "      <td>False</td>\n",
       "      <td>False</td>\n",
       "      <td>False</td>\n",
       "      <td>False</td>\n",
       "      <td>False</td>\n",
       "      <td>False</td>\n",
       "      <td>False</td>\n",
       "      <td>...</td>\n",
       "      <td>-0.315367</td>\n",
       "      <td>-0.464994</td>\n",
       "      <td>-0.603179</td>\n",
       "      <td>1.578544</td>\n",
       "      <td>0.734483</td>\n",
       "      <td>1.363302</td>\n",
       "      <td>0.099494</td>\n",
       "      <td>-0.960494</td>\n",
       "      <td>-3.018904</td>\n",
       "      <td>-0.992003</td>\n",
       "    </tr>\n",
       "    <tr>\n",
       "      <th>6924</th>\n",
       "      <td>False</td>\n",
       "      <td>False</td>\n",
       "      <td>False</td>\n",
       "      <td>False</td>\n",
       "      <td>False</td>\n",
       "      <td>False</td>\n",
       "      <td>False</td>\n",
       "      <td>False</td>\n",
       "      <td>False</td>\n",
       "      <td>False</td>\n",
       "      <td>...</td>\n",
       "      <td>-0.315367</td>\n",
       "      <td>-0.964782</td>\n",
       "      <td>0.068367</td>\n",
       "      <td>0.946478</td>\n",
       "      <td>-0.234589</td>\n",
       "      <td>0.230112</td>\n",
       "      <td>1.623742</td>\n",
       "      <td>0.943831</td>\n",
       "      <td>0.331246</td>\n",
       "      <td>-0.992003</td>\n",
       "    </tr>\n",
       "    <tr>\n",
       "      <th>3447</th>\n",
       "      <td>False</td>\n",
       "      <td>False</td>\n",
       "      <td>False</td>\n",
       "      <td>False</td>\n",
       "      <td>False</td>\n",
       "      <td>False</td>\n",
       "      <td>False</td>\n",
       "      <td>False</td>\n",
       "      <td>False</td>\n",
       "      <td>False</td>\n",
       "      <td>...</td>\n",
       "      <td>2.005736</td>\n",
       "      <td>0.467943</td>\n",
       "      <td>0.252421</td>\n",
       "      <td>-0.001620</td>\n",
       "      <td>-0.979734</td>\n",
       "      <td>0.428337</td>\n",
       "      <td>-0.300347</td>\n",
       "      <td>-0.008331</td>\n",
       "      <td>0.331246</td>\n",
       "      <td>1.978808</td>\n",
       "    </tr>\n",
       "    <tr>\n",
       "      <th>4371</th>\n",
       "      <td>False</td>\n",
       "      <td>False</td>\n",
       "      <td>False</td>\n",
       "      <td>False</td>\n",
       "      <td>False</td>\n",
       "      <td>False</td>\n",
       "      <td>False</td>\n",
       "      <td>False</td>\n",
       "      <td>False</td>\n",
       "      <td>False</td>\n",
       "      <td>...</td>\n",
       "      <td>0.088303</td>\n",
       "      <td>0.201390</td>\n",
       "      <td>0.998583</td>\n",
       "      <td>1.578544</td>\n",
       "      <td>0.455315</td>\n",
       "      <td>1.786184</td>\n",
       "      <td>-0.586360</td>\n",
       "      <td>-0.008331</td>\n",
       "      <td>0.331246</td>\n",
       "      <td>-0.992003</td>\n",
       "    </tr>\n",
       "    <tr>\n",
       "      <th>7429</th>\n",
       "      <td>False</td>\n",
       "      <td>False</td>\n",
       "      <td>False</td>\n",
       "      <td>False</td>\n",
       "      <td>False</td>\n",
       "      <td>False</td>\n",
       "      <td>False</td>\n",
       "      <td>False</td>\n",
       "      <td>False</td>\n",
       "      <td>False</td>\n",
       "      <td>...</td>\n",
       "      <td>-0.517202</td>\n",
       "      <td>-0.764867</td>\n",
       "      <td>-0.538512</td>\n",
       "      <td>-0.633685</td>\n",
       "      <td>0.404604</td>\n",
       "      <td>0.504324</td>\n",
       "      <td>-0.106782</td>\n",
       "      <td>1.578605</td>\n",
       "      <td>0.331246</td>\n",
       "      <td>-0.992003</td>\n",
       "    </tr>\n",
       "  </tbody>\n",
       "</table>\n",
       "<p>5 rows × 8016 columns</p>\n",
       "</div>"
      ],
      "text/plain": [
       "      Timestamp_2025-06-01 00:00:00  Timestamp_2025-06-01 00:15:00  \\\n",
       "4958                          False                          False   \n",
       "6924                          False                          False   \n",
       "3447                          False                          False   \n",
       "4371                          False                          False   \n",
       "7429                          False                          False   \n",
       "\n",
       "      Timestamp_2025-06-01 00:30:00  Timestamp_2025-06-01 00:45:00  \\\n",
       "4958                          False                          False   \n",
       "6924                          False                          False   \n",
       "3447                          False                          False   \n",
       "4371                          False                          False   \n",
       "7429                          False                          False   \n",
       "\n",
       "      Timestamp_2025-06-01 01:00:00  Timestamp_2025-06-01 01:15:00  \\\n",
       "4958                          False                          False   \n",
       "6924                          False                          False   \n",
       "3447                          False                          False   \n",
       "4371                          False                          False   \n",
       "7429                          False                          False   \n",
       "\n",
       "      Timestamp_2025-06-01 01:30:00  Timestamp_2025-06-01 01:45:00  \\\n",
       "4958                          False                          False   \n",
       "6924                          False                          False   \n",
       "3447                          False                          False   \n",
       "4371                          False                          False   \n",
       "7429                          False                          False   \n",
       "\n",
       "      Timestamp_2025-06-01 02:00:00  Timestamp_2025-06-01 02:15:00  ...  \\\n",
       "4958                          False                          False  ...   \n",
       "6924                          False                          False  ...   \n",
       "3447                          False                          False  ...   \n",
       "4371                          False                          False  ...   \n",
       "7429                          False                          False  ...   \n",
       "\n",
       "      Vibration  Airflow_Rate  Chemical_Concentration  Maintenance_Frequency  \\\n",
       "4958  -0.315367     -0.464994               -0.603179               1.578544   \n",
       "6924  -0.315367     -0.964782                0.068367               0.946478   \n",
       "3447   2.005736      0.467943                0.252421              -0.001620   \n",
       "4371   0.088303      0.201390                0.998583               1.578544   \n",
       "7429  -0.517202     -0.764867               -0.538512              -0.633685   \n",
       "\n",
       "      Operational_Hours  Environmental_Temperature  Environmental_Humidity  \\\n",
       "4958           0.734483                   1.363302                0.099494   \n",
       "6924          -0.234589                   0.230112                1.623742   \n",
       "3447          -0.979734                   0.428337               -0.300347   \n",
       "4371           0.455315                   1.786184               -0.586360   \n",
       "7429           0.404604                   0.504324               -0.106782   \n",
       "\n",
       "      Worker_Presence  Safety_Protocol_Compliance  Incident_History  \n",
       "4958        -0.960494                   -3.018904         -0.992003  \n",
       "6924         0.943831                    0.331246         -0.992003  \n",
       "3447        -0.008331                    0.331246          1.978808  \n",
       "4371        -0.008331                    0.331246         -0.992003  \n",
       "7429         1.578605                    0.331246         -0.992003  \n",
       "\n",
       "[5 rows x 8016 columns]"
      ]
     },
     "execution_count": 300,
     "metadata": {},
     "output_type": "execute_result"
    }
   ],
   "source": [
    "X_test.head()"
   ]
  },
  {
   "cell_type": "code",
   "execution_count": 303,
   "id": "e3673cdb-5090-44ce-a961-c5e42237a745",
   "metadata": {},
   "outputs": [
    {
     "data": {
      "text/plain": [
       "4958    0\n",
       "6924    0\n",
       "3447    0\n",
       "4371    0\n",
       "7429    0\n",
       "Name: Incident_Risk, dtype: int32"
      ]
     },
     "execution_count": 303,
     "metadata": {},
     "output_type": "execute_result"
    }
   ],
   "source": [
    "y_test.head()"
   ]
  },
  {
   "cell_type": "markdown",
   "id": "c0cf04f1-269e-4f60-a4c8-4d101fe0e04a",
   "metadata": {},
   "source": [
    "### Select the base model"
   ]
  },
  {
   "cell_type": "markdown",
   "id": "1600af20-d5cb-49e8-b90a-362a259474af",
   "metadata": {},
   "source": [
    "#### Linear Regression"
   ]
  },
  {
   "cell_type": "code",
   "execution_count": 307,
   "id": "1e93aa68-bebc-4152-b0c6-b410b3a89a4e",
   "metadata": {},
   "outputs": [
    {
     "name": "stdout",
     "output_type": "stream",
     "text": [
      "Mean Squared Error: 0.018614415944339577\n"
     ]
    }
   ],
   "source": [
    "from sklearn.model_selection import train_test_split\n",
    "from sklearn.linear_model import LinearRegression\n",
    "from sklearn.metrics import mean_squared_error\n",
    "\n",
    "# Assuming X_train, X_test, y_train, y_test are already defined from train_test_split\n",
    "\n",
    "# Create a linear regression model\n",
    "model = LinearRegression()\n",
    "\n",
    "# Fit the model to the training data\n",
    "model.fit(X_train, y_train)\n",
    "\n",
    "# Predict on the testing data\n",
    "predictions = model.predict(X_test)\n",
    "\n",
    "# Calculate mean squared error\n",
    "mse = mean_squared_error(y_test, predictions)\n",
    "print(\"Mean Squared Error:\", mse)"
   ]
  },
  {
   "cell_type": "markdown",
   "id": "3ebf7c9d-183c-4c58-b5b9-38fddeaaa4f1",
   "metadata": {},
   "source": [
    "#### Ridge Regression"
   ]
  },
  {
   "cell_type": "code",
   "execution_count": 309,
   "id": "de179fab-4cdc-46c8-afe2-ec8b7eefe9a4",
   "metadata": {},
   "outputs": [
    {
     "name": "stdout",
     "output_type": "stream",
     "text": [
      "Mean Squared Error: 0.01861436943186592\n"
     ]
    }
   ],
   "source": [
    "from sklearn.model_selection import train_test_split\n",
    "from sklearn.linear_model import Ridge\n",
    "from sklearn.metrics import mean_squared_error\n",
    "\n",
    "# Assuming X_train, X_test, y_train, y_test are already defined from train_test_split\n",
    "\n",
    "# Create a Ridge regression model\n",
    "ridge_model = Ridge(alpha=1.0)  # alpha is the regularization strength\n",
    "\n",
    "# Fit the model to the training data\n",
    "ridge_model.fit(X_train, y_train)\n",
    "\n",
    "# Predict on the testing data\n",
    "predictions = ridge_model.predict(X_test)\n",
    "\n",
    "# Calculate mean squared error\n",
    "mse = mean_squared_error(y_test, predictions)\n",
    "print(\"Mean Squared Error:\", mse)"
   ]
  },
  {
   "cell_type": "markdown",
   "id": "47fffbf3-7914-421e-984a-bd5426746f8b",
   "metadata": {},
   "source": [
    "#### Lasso Model\n"
   ]
  },
  {
   "cell_type": "code",
   "execution_count": 311,
   "id": "4cf0bd74-62c7-4029-8951-a86606849ff8",
   "metadata": {},
   "outputs": [
    {
     "name": "stdout",
     "output_type": "stream",
     "text": [
      "Mean Squared Error: 0.02239166666666667\n"
     ]
    }
   ],
   "source": [
    "from sklearn.model_selection import train_test_split\n",
    "from sklearn.linear_model import Lasso\n",
    "from sklearn.metrics import mean_squared_error\n",
    "\n",
    "# Assuming X_train, X_test, y_train, y_test are already defined from train_test_split\n",
    "\n",
    "# Create a Lasso regression model\n",
    "lasso_model = Lasso(alpha=1.0)  # alpha is the regularization strength\n",
    "\n",
    "# Fit the model to the training data\n",
    "lasso_model.fit(X_train, y_train)\n",
    "\n",
    "# Predict on the testing data\n",
    "predictions = lasso_model.predict(X_test)\n",
    "\n",
    "# Calculate mean squared error\n",
    "mse = mean_squared_error(y_test, predictions)\n",
    "print(\"Mean Squared Error:\", mse)"
   ]
  },
  {
   "cell_type": "markdown",
   "id": "3b2a9194-39e3-4987-95a6-a4e23671ff64",
   "metadata": {},
   "source": [
    "#### Decision Tree Regressor\r\n"
   ]
  },
  {
   "cell_type": "code",
   "execution_count": 313,
   "id": "6036e29b-f24a-498b-86d7-c57e600394c4",
   "metadata": {},
   "outputs": [
    {
     "name": "stdout",
     "output_type": "stream",
     "text": [
      "Mean Squared Error: 0.00375\n"
     ]
    }
   ],
   "source": [
    "from sklearn.model_selection import train_test_split\n",
    "from sklearn.tree import DecisionTreeRegressor\n",
    "from sklearn.metrics import mean_squared_error\n",
    "\n",
    "# Assuming X_train, X_test, y_train, y_test are already defined from train_test_split\n",
    "\n",
    "# Create a Decision Tree regression model\n",
    "tree_model = DecisionTreeRegressor()\n",
    "\n",
    "# Fit the model to the training data\n",
    "tree_model.fit(X_train, y_train)\n",
    "\n",
    "# Predict on the testing data\n",
    "predictions = tree_model.predict(X_test)\n",
    "\n",
    "# Calculate mean squared error\n",
    "mse = mean_squared_error(y_test, predictions)\n",
    "print(\"Mean Squared Error:\", mse)"
   ]
  },
  {
   "cell_type": "markdown",
   "id": "40c7154c-7ed6-44bd-8b17-dbe995d29962",
   "metadata": {},
   "source": [
    "#### Random Forest Regressor\n"
   ]
  },
  {
   "cell_type": "code",
   "execution_count": 315,
   "id": "5820d8f7-9b50-4c20-b499-6d11e27b079f",
   "metadata": {},
   "outputs": [
    {
     "name": "stdout",
     "output_type": "stream",
     "text": [
      "Mean Squared Error: 0.00375\n"
     ]
    }
   ],
   "source": [
    "from sklearn.model_selection import train_test_split\n",
    "from sklearn.ensemble import RandomForestRegressor\n",
    "from sklearn.metrics import mean_squared_error\n",
    "\n",
    "# Assuming X_train, X_test, y_train, y_test are already defined from train_test_split\n",
    "\n",
    "# Create a Random Forest regression model\n",
    "forest_model = RandomForestRegressor(n_estimators=100, random_state=42)\n",
    "\n",
    "# Fit the model to the training data\n",
    "forest_model.fit(X_train, y_train)\n",
    "\n",
    "# Predict on the testing data\n",
    "predictions = forest_model.predict(X_test)\n",
    "\n",
    "# Calculate mean squared error\n",
    "mse = mean_squared_error(y_test, predictions)\n",
    "print(\"Mean Squared Error:\", mse)"
   ]
  },
  {
   "cell_type": "markdown",
   "id": "53134e86-8da4-44fe-a00f-a9522d887ba5",
   "metadata": {},
   "source": [
    "#### perfom the hyperparameter tuning for base model\n"
   ]
  },
  {
   "cell_type": "code",
   "execution_count": 322,
   "id": "d6cb56eb-4c35-4afd-a162-e914d62db158",
   "metadata": {},
   "outputs": [],
   "source": [
    "from sklearn.gaussian_process import GaussianProcessRegressor\n",
    "from sklearn.gaussian_process.kernels import RBF, ConstantKernel as C, WhiteKernel\n",
    "from sklearn.model_selection import GridSearchCV, KFold\n",
    "from sklearn.datasets import make_regression\n",
    "from sklearn.preprocessing import StandardScaler\n",
    "from sklearn.pipeline import Pipeline"
   ]
  },
  {
   "cell_type": "code",
   "execution_count": 324,
   "id": "bebfc976-31d0-4986-90bf-e7b57cffd5ac",
   "metadata": {},
   "outputs": [],
   "source": [
    "# Define pipeline with scaling + GPR\n",
    "pipe = Pipeline([\n",
    "    ('scaler', StandardScaler()),\n",
    "    ('gpr', GaussianProcessRegressor())\n",
    "])"
   ]
  },
  {
   "cell_type": "code",
   "execution_count": 326,
   "id": "7c0cf626-847c-4b15-b0a8-ca536b279f25",
   "metadata": {},
   "outputs": [],
   "source": [
    "# Define kernel choices\n",
    "kernel_1 = C(1.0) * RBF(length_scale=1.0)\n",
    "kernel_2 = C(0.5) * RBF(length_scale=2.0)\n",
    "kernel_3 = C(1.0, (0.1, 10.0)) * RBF(length_scale=1.0, length_scale_bounds=(0.1, 10.0)) + WhiteKernel()"
   ]
  },
  {
   "cell_type": "code",
   "execution_count": 328,
   "id": "73374422-d0d0-41b7-8e74-ace5ed112367",
   "metadata": {},
   "outputs": [
    {
     "ename": "KeyboardInterrupt",
     "evalue": "",
     "output_type": "error",
     "traceback": [
      "\u001b[1;31m---------------------------------------------------------------------------\u001b[0m",
      "\u001b[1;31mKeyboardInterrupt\u001b[0m                         Traceback (most recent call last)",
      "Cell \u001b[1;32mIn[328], line 13\u001b[0m\n\u001b[0;32m     11\u001b[0m \u001b[38;5;66;03m# Grid Searchh\u001b[39;00m\n\u001b[0;32m     12\u001b[0m grid_search \u001b[38;5;241m=\u001b[39m GridSearchCV(pipe, param_grid, cv\u001b[38;5;241m=\u001b[39mcv, scoring\u001b[38;5;241m=\u001b[39m\u001b[38;5;124m'\u001b[39m\u001b[38;5;124mneg_mean_squared_error\u001b[39m\u001b[38;5;124m'\u001b[39m, n_jobs\u001b[38;5;241m=\u001b[39m\u001b[38;5;241m-\u001b[39m\u001b[38;5;241m1\u001b[39m)\n\u001b[1;32m---> 13\u001b[0m grid_search\u001b[38;5;241m.\u001b[39mfit(X_train, y_train)\n\u001b[0;32m     15\u001b[0m \u001b[38;5;66;03m# Best model and parameters\u001b[39;00m\n\u001b[0;32m     16\u001b[0m \u001b[38;5;28mprint\u001b[39m(\u001b[38;5;124m\"\u001b[39m\u001b[38;5;124mBest Parameters:\u001b[39m\u001b[38;5;124m\"\u001b[39m)\n",
      "File \u001b[1;32m~\\anaconda3\\Lib\\site-packages\\sklearn\\base.py:1474\u001b[0m, in \u001b[0;36m_fit_context.<locals>.decorator.<locals>.wrapper\u001b[1;34m(estimator, *args, **kwargs)\u001b[0m\n\u001b[0;32m   1467\u001b[0m     estimator\u001b[38;5;241m.\u001b[39m_validate_params()\n\u001b[0;32m   1469\u001b[0m \u001b[38;5;28;01mwith\u001b[39;00m config_context(\n\u001b[0;32m   1470\u001b[0m     skip_parameter_validation\u001b[38;5;241m=\u001b[39m(\n\u001b[0;32m   1471\u001b[0m         prefer_skip_nested_validation \u001b[38;5;129;01mor\u001b[39;00m global_skip_validation\n\u001b[0;32m   1472\u001b[0m     )\n\u001b[0;32m   1473\u001b[0m ):\n\u001b[1;32m-> 1474\u001b[0m     \u001b[38;5;28;01mreturn\u001b[39;00m fit_method(estimator, \u001b[38;5;241m*\u001b[39margs, \u001b[38;5;241m*\u001b[39m\u001b[38;5;241m*\u001b[39mkwargs)\n",
      "File \u001b[1;32m~\\anaconda3\\Lib\\site-packages\\sklearn\\model_selection\\_search.py:970\u001b[0m, in \u001b[0;36mBaseSearchCV.fit\u001b[1;34m(self, X, y, **params)\u001b[0m\n\u001b[0;32m    964\u001b[0m     results \u001b[38;5;241m=\u001b[39m \u001b[38;5;28mself\u001b[39m\u001b[38;5;241m.\u001b[39m_format_results(\n\u001b[0;32m    965\u001b[0m         all_candidate_params, n_splits, all_out, all_more_results\n\u001b[0;32m    966\u001b[0m     )\n\u001b[0;32m    968\u001b[0m     \u001b[38;5;28;01mreturn\u001b[39;00m results\n\u001b[1;32m--> 970\u001b[0m \u001b[38;5;28mself\u001b[39m\u001b[38;5;241m.\u001b[39m_run_search(evaluate_candidates)\n\u001b[0;32m    972\u001b[0m \u001b[38;5;66;03m# multimetric is determined here because in the case of a callable\u001b[39;00m\n\u001b[0;32m    973\u001b[0m \u001b[38;5;66;03m# self.scoring the return type is only known after calling\u001b[39;00m\n\u001b[0;32m    974\u001b[0m first_test_score \u001b[38;5;241m=\u001b[39m all_out[\u001b[38;5;241m0\u001b[39m][\u001b[38;5;124m\"\u001b[39m\u001b[38;5;124mtest_scores\u001b[39m\u001b[38;5;124m\"\u001b[39m]\n",
      "File \u001b[1;32m~\\anaconda3\\Lib\\site-packages\\sklearn\\model_selection\\_search.py:1527\u001b[0m, in \u001b[0;36mGridSearchCV._run_search\u001b[1;34m(self, evaluate_candidates)\u001b[0m\n\u001b[0;32m   1525\u001b[0m \u001b[38;5;28;01mdef\u001b[39;00m \u001b[38;5;21m_run_search\u001b[39m(\u001b[38;5;28mself\u001b[39m, evaluate_candidates):\n\u001b[0;32m   1526\u001b[0m \u001b[38;5;250m    \u001b[39m\u001b[38;5;124;03m\"\"\"Search all candidates in param_grid\"\"\"\u001b[39;00m\n\u001b[1;32m-> 1527\u001b[0m     evaluate_candidates(ParameterGrid(\u001b[38;5;28mself\u001b[39m\u001b[38;5;241m.\u001b[39mparam_grid))\n",
      "File \u001b[1;32m~\\anaconda3\\Lib\\site-packages\\sklearn\\model_selection\\_search.py:916\u001b[0m, in \u001b[0;36mBaseSearchCV.fit.<locals>.evaluate_candidates\u001b[1;34m(candidate_params, cv, more_results)\u001b[0m\n\u001b[0;32m    908\u001b[0m \u001b[38;5;28;01mif\u001b[39;00m \u001b[38;5;28mself\u001b[39m\u001b[38;5;241m.\u001b[39mverbose \u001b[38;5;241m>\u001b[39m \u001b[38;5;241m0\u001b[39m:\n\u001b[0;32m    909\u001b[0m     \u001b[38;5;28mprint\u001b[39m(\n\u001b[0;32m    910\u001b[0m         \u001b[38;5;124m\"\u001b[39m\u001b[38;5;124mFitting \u001b[39m\u001b[38;5;132;01m{0}\u001b[39;00m\u001b[38;5;124m folds for each of \u001b[39m\u001b[38;5;132;01m{1}\u001b[39;00m\u001b[38;5;124m candidates,\u001b[39m\u001b[38;5;124m\"\u001b[39m\n\u001b[0;32m    911\u001b[0m         \u001b[38;5;124m\"\u001b[39m\u001b[38;5;124m totalling \u001b[39m\u001b[38;5;132;01m{2}\u001b[39;00m\u001b[38;5;124m fits\u001b[39m\u001b[38;5;124m\"\u001b[39m\u001b[38;5;241m.\u001b[39mformat(\n\u001b[0;32m    912\u001b[0m             n_splits, n_candidates, n_candidates \u001b[38;5;241m*\u001b[39m n_splits\n\u001b[0;32m    913\u001b[0m         )\n\u001b[0;32m    914\u001b[0m     )\n\u001b[1;32m--> 916\u001b[0m out \u001b[38;5;241m=\u001b[39m parallel(\n\u001b[0;32m    917\u001b[0m     delayed(_fit_and_score)(\n\u001b[0;32m    918\u001b[0m         clone(base_estimator),\n\u001b[0;32m    919\u001b[0m         X,\n\u001b[0;32m    920\u001b[0m         y,\n\u001b[0;32m    921\u001b[0m         train\u001b[38;5;241m=\u001b[39mtrain,\n\u001b[0;32m    922\u001b[0m         test\u001b[38;5;241m=\u001b[39mtest,\n\u001b[0;32m    923\u001b[0m         parameters\u001b[38;5;241m=\u001b[39mparameters,\n\u001b[0;32m    924\u001b[0m         split_progress\u001b[38;5;241m=\u001b[39m(split_idx, n_splits),\n\u001b[0;32m    925\u001b[0m         candidate_progress\u001b[38;5;241m=\u001b[39m(cand_idx, n_candidates),\n\u001b[0;32m    926\u001b[0m         \u001b[38;5;241m*\u001b[39m\u001b[38;5;241m*\u001b[39mfit_and_score_kwargs,\n\u001b[0;32m    927\u001b[0m     )\n\u001b[0;32m    928\u001b[0m     \u001b[38;5;28;01mfor\u001b[39;00m (cand_idx, parameters), (split_idx, (train, test)) \u001b[38;5;129;01min\u001b[39;00m product(\n\u001b[0;32m    929\u001b[0m         \u001b[38;5;28menumerate\u001b[39m(candidate_params),\n\u001b[0;32m    930\u001b[0m         \u001b[38;5;28menumerate\u001b[39m(cv\u001b[38;5;241m.\u001b[39msplit(X, y, \u001b[38;5;241m*\u001b[39m\u001b[38;5;241m*\u001b[39mrouted_params\u001b[38;5;241m.\u001b[39msplitter\u001b[38;5;241m.\u001b[39msplit)),\n\u001b[0;32m    931\u001b[0m     )\n\u001b[0;32m    932\u001b[0m )\n\u001b[0;32m    934\u001b[0m \u001b[38;5;28;01mif\u001b[39;00m \u001b[38;5;28mlen\u001b[39m(out) \u001b[38;5;241m<\u001b[39m \u001b[38;5;241m1\u001b[39m:\n\u001b[0;32m    935\u001b[0m     \u001b[38;5;28;01mraise\u001b[39;00m \u001b[38;5;167;01mValueError\u001b[39;00m(\n\u001b[0;32m    936\u001b[0m         \u001b[38;5;124m\"\u001b[39m\u001b[38;5;124mNo fits were performed. \u001b[39m\u001b[38;5;124m\"\u001b[39m\n\u001b[0;32m    937\u001b[0m         \u001b[38;5;124m\"\u001b[39m\u001b[38;5;124mWas the CV iterator empty? \u001b[39m\u001b[38;5;124m\"\u001b[39m\n\u001b[0;32m    938\u001b[0m         \u001b[38;5;124m\"\u001b[39m\u001b[38;5;124mWere there no candidates?\u001b[39m\u001b[38;5;124m\"\u001b[39m\n\u001b[0;32m    939\u001b[0m     )\n",
      "File \u001b[1;32m~\\anaconda3\\Lib\\site-packages\\sklearn\\utils\\parallel.py:67\u001b[0m, in \u001b[0;36mParallel.__call__\u001b[1;34m(self, iterable)\u001b[0m\n\u001b[0;32m     62\u001b[0m config \u001b[38;5;241m=\u001b[39m get_config()\n\u001b[0;32m     63\u001b[0m iterable_with_config \u001b[38;5;241m=\u001b[39m (\n\u001b[0;32m     64\u001b[0m     (_with_config(delayed_func, config), args, kwargs)\n\u001b[0;32m     65\u001b[0m     \u001b[38;5;28;01mfor\u001b[39;00m delayed_func, args, kwargs \u001b[38;5;129;01min\u001b[39;00m iterable\n\u001b[0;32m     66\u001b[0m )\n\u001b[1;32m---> 67\u001b[0m \u001b[38;5;28;01mreturn\u001b[39;00m \u001b[38;5;28msuper\u001b[39m()\u001b[38;5;241m.\u001b[39m\u001b[38;5;21m__call__\u001b[39m(iterable_with_config)\n",
      "File \u001b[1;32m~\\anaconda3\\Lib\\site-packages\\joblib\\parallel.py:2007\u001b[0m, in \u001b[0;36mParallel.__call__\u001b[1;34m(self, iterable)\u001b[0m\n\u001b[0;32m   2001\u001b[0m \u001b[38;5;66;03m# The first item from the output is blank, but it makes the interpreter\u001b[39;00m\n\u001b[0;32m   2002\u001b[0m \u001b[38;5;66;03m# progress until it enters the Try/Except block of the generator and\u001b[39;00m\n\u001b[0;32m   2003\u001b[0m \u001b[38;5;66;03m# reaches the first `yield` statement. This starts the asynchronous\u001b[39;00m\n\u001b[0;32m   2004\u001b[0m \u001b[38;5;66;03m# dispatch of the tasks to the workers.\u001b[39;00m\n\u001b[0;32m   2005\u001b[0m \u001b[38;5;28mnext\u001b[39m(output)\n\u001b[1;32m-> 2007\u001b[0m \u001b[38;5;28;01mreturn\u001b[39;00m output \u001b[38;5;28;01mif\u001b[39;00m \u001b[38;5;28mself\u001b[39m\u001b[38;5;241m.\u001b[39mreturn_generator \u001b[38;5;28;01melse\u001b[39;00m \u001b[38;5;28mlist\u001b[39m(output)\n",
      "File \u001b[1;32m~\\anaconda3\\Lib\\site-packages\\joblib\\parallel.py:1650\u001b[0m, in \u001b[0;36mParallel._get_outputs\u001b[1;34m(self, iterator, pre_dispatch)\u001b[0m\n\u001b[0;32m   1647\u001b[0m     \u001b[38;5;28;01myield\u001b[39;00m\n\u001b[0;32m   1649\u001b[0m     \u001b[38;5;28;01mwith\u001b[39;00m \u001b[38;5;28mself\u001b[39m\u001b[38;5;241m.\u001b[39m_backend\u001b[38;5;241m.\u001b[39mretrieval_context():\n\u001b[1;32m-> 1650\u001b[0m         \u001b[38;5;28;01myield from\u001b[39;00m \u001b[38;5;28mself\u001b[39m\u001b[38;5;241m.\u001b[39m_retrieve()\n\u001b[0;32m   1652\u001b[0m \u001b[38;5;28;01mexcept\u001b[39;00m \u001b[38;5;167;01mGeneratorExit\u001b[39;00m:\n\u001b[0;32m   1653\u001b[0m     \u001b[38;5;66;03m# The generator has been garbage collected before being fully\u001b[39;00m\n\u001b[0;32m   1654\u001b[0m     \u001b[38;5;66;03m# consumed. This aborts the remaining tasks if possible and warn\u001b[39;00m\n\u001b[0;32m   1655\u001b[0m     \u001b[38;5;66;03m# the user if necessary.\u001b[39;00m\n\u001b[0;32m   1656\u001b[0m     \u001b[38;5;28mself\u001b[39m\u001b[38;5;241m.\u001b[39m_exception \u001b[38;5;241m=\u001b[39m \u001b[38;5;28;01mTrue\u001b[39;00m\n",
      "File \u001b[1;32m~\\anaconda3\\Lib\\site-packages\\joblib\\parallel.py:1762\u001b[0m, in \u001b[0;36mParallel._retrieve\u001b[1;34m(self)\u001b[0m\n\u001b[0;32m   1757\u001b[0m \u001b[38;5;66;03m# If the next job is not ready for retrieval yet, we just wait for\u001b[39;00m\n\u001b[0;32m   1758\u001b[0m \u001b[38;5;66;03m# async callbacks to progress.\u001b[39;00m\n\u001b[0;32m   1759\u001b[0m \u001b[38;5;28;01mif\u001b[39;00m ((\u001b[38;5;28mlen\u001b[39m(\u001b[38;5;28mself\u001b[39m\u001b[38;5;241m.\u001b[39m_jobs) \u001b[38;5;241m==\u001b[39m \u001b[38;5;241m0\u001b[39m) \u001b[38;5;129;01mor\u001b[39;00m\n\u001b[0;32m   1760\u001b[0m     (\u001b[38;5;28mself\u001b[39m\u001b[38;5;241m.\u001b[39m_jobs[\u001b[38;5;241m0\u001b[39m]\u001b[38;5;241m.\u001b[39mget_status(\n\u001b[0;32m   1761\u001b[0m         timeout\u001b[38;5;241m=\u001b[39m\u001b[38;5;28mself\u001b[39m\u001b[38;5;241m.\u001b[39mtimeout) \u001b[38;5;241m==\u001b[39m TASK_PENDING)):\n\u001b[1;32m-> 1762\u001b[0m     time\u001b[38;5;241m.\u001b[39msleep(\u001b[38;5;241m0.01\u001b[39m)\n\u001b[0;32m   1763\u001b[0m     \u001b[38;5;28;01mcontinue\u001b[39;00m\n\u001b[0;32m   1765\u001b[0m \u001b[38;5;66;03m# We need to be careful: the job list can be filling up as\u001b[39;00m\n\u001b[0;32m   1766\u001b[0m \u001b[38;5;66;03m# we empty it and Python list are not thread-safe by\u001b[39;00m\n\u001b[0;32m   1767\u001b[0m \u001b[38;5;66;03m# default hence the use of the lock\u001b[39;00m\n",
      "\u001b[1;31mKeyboardInterrupt\u001b[0m: "
     ]
    }
   ],
   "source": [
    "# Hyperparameter grid\n",
    "param_grid = {\n",
    "    'gpr__kernel': [kernel_1, kernel_2, kernel_3],\n",
    "    'gpr__alpha': [1e-10, 1e-5, 1e-2],\n",
    "    'gpr__normalize_y': [True, False]\n",
    "}\n",
    "\n",
    "# K-Fold cross validation\n",
    "cv = KFold(n_splits=5, shuffle=True, random_state=42)\n",
    "\n",
    "# Grid Searchh\n",
    "grid_search = GridSearchCV(pipe, param_grid, cv=cv, scoring='neg_mean_squared_error', n_jobs=-1)\n",
    "grid_search.fit(X_train, y_train)\n",
    "\n",
    "# Best model and parameters\n",
    "print(\"Best Parameters:\")\n",
    "print(grid_search.best_params_)\n",
    "\n",
    "print(\"\\nBest Score (Neg MSE):\")\n",
    "print(grid_search.best_score_)"
   ]
  },
  {
   "cell_type": "code",
   "execution_count": null,
   "id": "bcb0c4f5-1d77-4530-b57b-9ae38b76121f",
   "metadata": {},
   "outputs": [],
   "source": []
  }
 ],
 "metadata": {
  "kernelspec": {
   "display_name": "Python 3 (ipykernel)",
   "language": "python",
   "name": "python3"
  },
  "language_info": {
   "codemirror_mode": {
    "name": "ipython",
    "version": 3
   },
   "file_extension": ".py",
   "mimetype": "text/x-python",
   "name": "python",
   "nbconvert_exporter": "python",
   "pygments_lexer": "ipython3",
   "version": "3.12.4"
  }
 },
 "nbformat": 4,
 "nbformat_minor": 5
}
